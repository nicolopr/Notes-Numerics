{
 "cells": [
  {
   "cell_type": "markdown",
   "id": "764225f4-6d37-4375-bd59-2d241fa619cb",
   "metadata": {},
   "source": [
    "# Vectors"
   ]
  },
  {
   "cell_type": "code",
   "execution_count": 8,
   "id": "920cad9c-f8cf-4a4b-968f-b574e096cc89",
   "metadata": {},
   "outputs": [],
   "source": [
    "import numpy as np\n",
    "row_vector=np.array([[1,2,3,4]])\n",
    "col_vector=np.array([[1],[2],[3],[4]])"
   ]
  },
  {
   "cell_type": "code",
   "execution_count": 9,
   "id": "3d550c0c-db95-4818-a251-121360e99216",
   "metadata": {},
   "outputs": [
    {
     "name": "stdout",
     "output_type": "stream",
     "text": [
      "(1, 4)\n",
      "(4, 1)\n"
     ]
    }
   ],
   "source": [
    "print(row_vector.shape)\n",
    "print(col_vector.shape)"
   ]
  },
  {
   "cell_type": "markdown",
   "id": "515ebe1a-1af0-46b5-b1e3-51a11804f1d6",
   "metadata": {},
   "source": [
    "#### Transposition\n",
    "Transposition on `np.array`s is done via the attribute `T`:"
   ]
  },
  {
   "cell_type": "code",
   "execution_count": 10,
   "id": "596be33a-cfb2-4fb9-91be-2075f504f497",
   "metadata": {},
   "outputs": [
    {
     "name": "stdout",
     "output_type": "stream",
     "text": [
      "(4, 1)\n"
     ]
    }
   ],
   "source": [
    "new_col_vector=row_vector.T\n",
    "print(new_col_vector.shape)"
   ]
  },
  {
   "cell_type": "markdown",
   "id": "464850ad-e86b-490d-b8d5-d14d1f27757b",
   "metadata": {},
   "source": [
    "#### Norm\n",
    "Norms are obtained via the `norm` function in the `numpy.linalg` package. You should use column vectors to compute it. It takes one optional argument `ord` specifying which norm:\n",
    "- `ord=1` is the $L_1$ norm, aka sum of elements in vector;\n",
    "- `ord=2` is the $L_2$ norm, aka Euclidean;\n",
    "- `ord=np.inf` is the $L_{\\infty}$ norm, aka the max absolute value of a component in the vector."
   ]
  },
  {
   "cell_type": "code",
   "execution_count": 22,
   "id": "45c30aaf-67ce-4165-9de7-eefdf5e06977",
   "metadata": {},
   "outputs": [
    {
     "name": "stdout",
     "output_type": "stream",
     "text": [
      "10.0\n",
      "5.477225575051661\n",
      "4.0\n"
     ]
    }
   ],
   "source": [
    "from numpy.linalg import norm\n",
    "print(norm(col_vector,1))\n",
    "print(norm(col_vector,2))\n",
    "print(norm(col_vector,np.inf))"
   ]
  },
  {
   "cell_type": "markdown",
   "id": "e329ee3f-d6c5-4488-afb3-6832b50f35d8",
   "metadata": {},
   "source": [
    "#### Dot and exterior product\n",
    "The dot product between a row and column vector is done via the `dot` function. Note that it can also function as direct product if you fuck up the shapes of the vectors."
   ]
  },
  {
   "cell_type": "code",
   "execution_count": 30,
   "id": "ae94678b-0f87-46e2-bce1-b8fa1ab9327f",
   "metadata": {},
   "outputs": [
    {
     "name": "stdout",
     "output_type": "stream",
     "text": [
      "scalar product:\n",
      "[[30]]\n",
      "\n",
      "direct product:\n",
      "[[ 1  2  3  4]\n",
      " [ 2  4  6  8]\n",
      " [ 3  6  9 12]\n",
      " [ 4  8 12 16]]\n"
     ]
    }
   ],
   "source": [
    "from numpy import dot\n",
    "print(f'scalar product:\\n{dot(row_vector,row_vector.T)}\\n')\n",
    "print(f'direct product:\\n{dot(col_vector,col_vector.T)}')"
   ]
  },
  {
   "cell_type": "markdown",
   "id": "9642f0a4-198f-4962-b1f4-b3e13922837d",
   "metadata": {},
   "source": [
    "The cross product between $2D$ or $3D$ vectors is done via the `cross` method of `numpy`."
   ]
  },
  {
   "cell_type": "code",
   "execution_count": 41,
   "id": "d835f219-eb29-4ea2-8177-0732a7c4b001",
   "metadata": {},
   "outputs": [
    {
     "name": "stdout",
     "output_type": "stream",
     "text": [
      "cross product:\n",
      "[[ 1 -1  0]]\n",
      "\n",
      "cross product between same vector:\n",
      "[[0 0 0]]\n",
      "\n"
     ]
    }
   ],
   "source": [
    "from numpy import cross\n",
    "d_vec1=np.array([[1,1,1]])\n",
    "d_vec2=np.array([[2,2,3]])\n",
    "print(f'cross product:\\n{cross(d_vec1,d_vec2)}\\n')\n",
    "print(f'cross product between same vector:\\n{cross(d_vec1,d_vec1)}\\n')"
   ]
  },
  {
   "cell_type": "markdown",
   "id": "1de25df3-2715-42c1-aad6-4b98d2862647",
   "metadata": {},
   "source": [
    "# Matrices"
   ]
  },
  {
   "cell_type": "markdown",
   "id": "e99c59d3-f619-4df0-bc0d-61d90fb34145",
   "metadata": {},
   "source": [
    "They are also defined via `np.array`, and multiplied via `np.dot`. Ofc usual rules of matrix multiplication apply."
   ]
  },
  {
   "cell_type": "code",
   "execution_count": 49,
   "id": "cc2bbd0c-82df-46b4-bc6f-27b9d85f5b68",
   "metadata": {},
   "outputs": [
    {
     "data": {
      "text/plain": [
       "array([[ 9, 15, 18],\n",
       "       [ 9, 15, 18]])"
      ]
     },
     "execution_count": 49,
     "metadata": {},
     "output_type": "execute_result"
    }
   ],
   "source": [
    "mat1=np.array([[1,2,3],[1,2,3]]) # 2X3 matrix\n",
    "mat2=np.array([[1,2,3],[1,2,3],[2,3,3]]) #3X3 matrix\n",
    "dot(mat1,mat2) #2X3 matrix"
   ]
  },
  {
   "cell_type": "code",
   "execution_count": 53,
   "id": "0baff3e3-ea2b-42b4-a1bf-203f0c52ac20",
   "metadata": {},
   "outputs": [
    {
     "name": "stdout",
     "output_type": "stream",
     "text": [
      "Wrong shapes!\n"
     ]
    }
   ],
   "source": [
    "try:\n",
    "    dot(mat2,mat1) #error: wrong shapes\n",
    "except:\n",
    "    print('Wrong shapes!')"
   ]
  },
  {
   "cell_type": "markdown",
   "id": "2816c46b-3a9e-4ade-ad28-61e9a652e3bb",
   "metadata": {},
   "source": [
    "The <font color=red> <b> Identity matrix </b></font> in $n$ dimensions $I_{n\\times n}$ is obtained via `np.eye(n)`."
   ]
  },
  {
   "cell_type": "code",
   "execution_count": 55,
   "id": "6501150c-4f30-4b90-ac1d-4c26249622ed",
   "metadata": {},
   "outputs": [
    {
     "name": "stdout",
     "output_type": "stream",
     "text": [
      "[[1. 0. 0. 0.]\n",
      " [0. 1. 0. 0.]\n",
      " [0. 0. 1. 0.]\n",
      " [0. 0. 0. 1.]]\n"
     ]
    }
   ],
   "source": [
    "In=np.eye(4)\n",
    "print(In)"
   ]
  },
  {
   "cell_type": "markdown",
   "id": "b3df3cbc-d6af-4510-8ca2-e4a39b46ee60",
   "metadata": {},
   "source": [
    "The <font color=red> <b> determinant </b></font> is the function `det` in `numpy.linalg`:"
   ]
  },
  {
   "cell_type": "code",
   "execution_count": 75,
   "id": "60881724-bed1-4d3e-b44e-58273736c8a5",
   "metadata": {},
   "outputs": [
    {
     "name": "stdout",
     "output_type": "stream",
     "text": [
      "1.0\n",
      "-2.9999999999999996\n",
      "-3.0\n"
     ]
    }
   ],
   "source": [
    "from numpy.linalg import det\n",
    "print(det(In))\n",
    "arr=np.array([[1,2],[2,1]])\n",
    "print(det(arr)) #precision problem, should be -3\n",
    "import scipy\n",
    "print(scipy.linalg.det(arr)) #apparently scipy has better precision out of the box"
   ]
  },
  {
   "cell_type": "markdown",
   "id": "3d528ef4-17ee-4546-914d-56f3f61e8b72",
   "metadata": {},
   "source": [
    "The <font color=red> <b> inverse </b></font> is the function `inv` in `numpy.linalg`:"
   ]
  },
  {
   "cell_type": "code",
   "execution_count": 88,
   "id": "df365968-7750-42eb-8bff-863999bf7f20",
   "metadata": {},
   "outputs": [
    {
     "name": "stdout",
     "output_type": "stream",
     "text": [
      "[[-0.333  0.667]\n",
      " [ 0.667 -0.333]]\n",
      "\n",
      "If matrix is singular it raises LinAlgError with message:\n",
      "Singular matrix\n"
     ]
    }
   ],
   "source": [
    "from numpy.linalg import inv, LinAlgError\n",
    "print(inv(arr))\n",
    "\n",
    "print('\\nIf matrix is singular it raises LinAlgError with message:')\n",
    "try:\n",
    "    inv(np.array([[1,0],[0,0]]))\n",
    "except np.linalg.LinAlgError as E:\n",
    "    print(E)"
   ]
  },
  {
   "cell_type": "markdown",
   "id": "46136845-73e3-4324-9d22-ed889181526b",
   "metadata": {},
   "source": [
    "<font color=red> <b> Ill-conditioned matrices </b></font> have very small determinant, and are thus \"almost non-invertible\". They may be problematic due to numerical precision in Python. `numpy.linalg` has the function `cond` that checks how close is a matrix to being ill-conditioned."
   ]
  },
  {
   "cell_type": "code",
   "execution_count": 101,
   "id": "a64efaa4-2173-4b43-affd-7de08acf4e05",
   "metadata": {},
   "outputs": [
    {
     "name": "stdout",
     "output_type": "stream",
     "text": [
      "1.0\n",
      "100.0\n",
      "1000000.0\n"
     ]
    }
   ],
   "source": [
    "from numpy.linalg import cond\n",
    "print(cond(np.eye(4))) # not ill-conditioned\n",
    "ill_cond1=np.array([[1,0],[0,0.01]])\n",
    "print(cond(ill_cond1)) # more ill-cond\n",
    "ill_cond2=np.array([[1,0],[0,0.000001]])\n",
    "print(cond(ill_cond2)) #very ill-cond"
   ]
  },
  {
   "cell_type": "markdown",
   "id": "6dc1cbe9-329f-473b-9032-9b16124e3bb5",
   "metadata": {},
   "source": [
    "The <font color=red> <b> rank </b></font> is the function `matrix_rank` in `numpy.linalg`:"
   ]
  },
  {
   "cell_type": "code",
   "execution_count": 109,
   "id": "f1aeb1e0-b0e8-439f-9b5c-59115f43d9cf",
   "metadata": {},
   "outputs": [
    {
     "name": "stdout",
     "output_type": "stream",
     "text": [
      "[1, 2, 3, 4, 5]\n"
     ]
    },
    {
     "data": {
      "text/plain": [
       "1"
      ]
     },
     "execution_count": 109,
     "metadata": {},
     "output_type": "execute_result"
    }
   ],
   "source": [
    "from numpy.linalg import matrix_rank\n",
    "res=[]\n",
    "for i in range(1,6):\n",
    "    res.append(matrix_rank(np.eye(i)))\n",
    "print(res)\n",
    "matrix_rank(np.array([[1,2],[1,2]])) #rank 1 since it has two repeated columns"
   ]
  },
  {
   "cell_type": "markdown",
   "id": "2203821b-7132-49ea-94a1-becb02d3c4da",
   "metadata": {},
   "source": [
    "You can add rows or columns to a matrix via the `concatenate` method of `numpy`. It takes a `tuple` of matrices or vectors as argument, plus an optional `axis` which specifies the axis on which to join them. By default it is 0, which flattens first arrays and adds them on rows. `axis=1` adds them on columns."
   ]
  },
  {
   "cell_type": "code",
   "execution_count": 120,
   "id": "1e46f6ae-1f0b-4174-b398-4b656d0bed1e",
   "metadata": {},
   "outputs": [
    {
     "name": "stdout",
     "output_type": "stream",
     "text": [
      "[[1 0]\n",
      " [0 2]\n",
      " [1 0]] \n",
      "\n",
      "[[1 0 1]\n",
      " [0 2 0]]\n"
     ]
    }
   ],
   "source": [
    "arr=np.array([[1,0],[0,2]])\n",
    "vect=np.array([[1,0]])\n",
    "print(np.concatenate((arr,vect), axis=0),'\\n') #adds vector as new row\n",
    "print(np.concatenate((arr,vect.T), axis=1)) #adds vector as new column"
   ]
  },
  {
   "cell_type": "markdown",
   "id": "bcfcb754-4077-4bca-9b39-f4aa1fc56e40",
   "metadata": {},
   "source": [
    "Note that dimension of concatened arrays must be consistent:\n",
    "- If you want to add new rows (`axis=0`) you need to make sure that all new rows have same number of columns.\n",
    "- If you want to add new columns (`axis=1`) you need to make sure that all new columns have same number of rows."
   ]
  },
  {
   "cell_type": "markdown",
   "id": "9cbd269f-9ebf-4ef4-a2ed-fb720e156dcf",
   "metadata": {},
   "source": [
    "# Systems of linear equations"
   ]
  },
  {
   "cell_type": "markdown",
   "id": "b54b5feb-0afb-49b6-955f-dabbe868d0b2",
   "metadata": {},
   "source": [
    "The basics is the classic Gauss elimination algorithm, where you the matrix $M$ in $M \\vec{x}=\\vec{b}$ to a upper or lower triangular form and then solve by direct substitution. This is not very efficient if you need to use different $\\vec{b}$ (which could represent new data for your model), as you need to redo the entire procedure every time."
   ]
  },
  {
   "cell_type": "markdown",
   "id": "28dcb378-6c78-4f7f-bc01-2f455d609dfc",
   "metadata": {},
   "source": [
    "### <font color=red>LU decomposition</font>"
   ]
  },
  {
   "cell_type": "markdown",
   "id": "38efd93d-a5c6-42a9-ac10-a7234a84ab98",
   "metadata": {},
   "source": [
    "The idea is writing $M=LU$ where $L$ is lower triangular and $U$ is upper triangular. This is always possible provided that some conditions on the ranks of the minors of $M$ are satisfied.\n",
    "\n",
    "The form $LU$ makes trivial solving linear systems of form $M \\vec{x}=\\vec{b}$ trivial for __different__ $\\vec{b}$. In fact you simply write:\n",
    "\n",
    "\n",
    "- $L U \\vec{x}=\\vec{b} \\rightarrow L (U\\vec{x})\\equiv L\\vec{y}=\\vec{b}$. This can be immediately solve $\\forall \\vec{b}$ using direct substitution ($L$ is triangular!).\n",
    "- Having found $\\vec{y}$, you can easily retrieve $\\vec{x}$ solving the linear system $U \\vec{x}=y$. This is also immediately done via direct substitution, since $U$ is also triangular. \n",
    "\n"
   ]
  },
  {
   "cell_type": "markdown",
   "id": "4c099158-4af8-4df6-a791-4dac986f8771",
   "metadata": {},
   "source": [
    "### <font color=red>Iterative methods</font>"
   ]
  },
  {
   "cell_type": "markdown",
   "id": "dd721ae6-a709-4e89-ac22-c87e8403c1db",
   "metadata": {},
   "source": [
    "Start with the linear system\n",
    "$\\begin{pmatrix}\n",
    "a_{1,1} & a_{1,2} & \\dots & a_{1,n}\\\\\n",
    "a_{2,1} & a_{2,2} & \\dots & a_{2,n}\\\\\n",
    "\\dots & \\dots & \\dots & \\dots\\\\\n",
    "a_{n,1} & a_{n,2} & \\dots & a_{n,n}\n",
    "\\end{pmatrix}\n",
    "\\begin{pmatrix}\n",
    "x_1\\\\\n",
    "x_2\\\\\n",
    "\\dots\\\\\n",
    "x_n\n",
    "\\end{pmatrix}= \\begin{pmatrix}\n",
    "y_1\\\\\n",
    "y_2\\\\\n",
    "\\dots\\\\\n",
    "y_n\n",
    "\\end{pmatrix}\n",
    "$. \n",
    "\n",
    "Then it is easy to check that from each row we can obtain the recursion relation $x_{i}=\\dfrac{1}{a_{i,i}}\\left[y_i-\\sum_{j\\neq i} a_{i,j}x_j\\right]$.\n",
    "\n",
    "We can use an iterative method to solve this recursion:\n",
    "- assume some initial values $x^(0)_i$.\n",
    "- Plug them into the lhs of the recursion relations.\n",
    "- Solve for the rhs, obtaining $x^(1)$.\n",
    "- Repeat the process until it converges.\n",
    "\n",
    "A _sufficient_ (but __not necessary__) condition for convergence is that $M$ is __diagonally dominant__, i.e. that for each row the absolute value of the diagonal element is bigger than the sum of the absolute values of the non-diagonal ones:\n",
    "\n",
    "<center>$|a_{ii}|>\\sum_{j\\neq i} |a_{ij}|,\\,\\, i=1\\dots n $</center>"
   ]
  },
  {
   "cell_type": "markdown",
   "id": "ee75ad23-d2f8-46c6-a6e6-53f0551afdd8",
   "metadata": {},
   "source": [
    "### <font color=red> Gauss-Seidel iterative method</font>"
   ]
  },
  {
   "cell_type": "markdown",
   "id": "48eb7df7-92d1-4db1-8442-6c33dc725d11",
   "metadata": {},
   "source": [
    "General idea to compute $x_1\\dots x_n$:\n",
    "\n",
    "- Start with guess for $x_2\\dots x_n$ and compute $x_1$ from these data;\n",
    "- Use new $x_1 + x_3\\dots x_n$ to compute $x_2$;\n",
    "- ...\n",
    "- Use exact $x_1 \\dots x_{n-1}$ to compute $x_n$."
   ]
  },
  {
   "cell_type": "markdown",
   "id": "4a6ac537-028e-4b05-a6c4-5e46f7cb8fe0",
   "metadata": {},
   "source": [
    "#### Example"
   ]
  },
  {
   "cell_type": "markdown",
   "id": "45c0b69d-0370-4489-94a5-36e67b6c457c",
   "metadata": {},
   "source": [
    "We wish to solve the linear system:\n",
    "\n",
    "$\\begin{pmatrix}\n",
    "8 & 3 & -3\\\\\n",
    "-2 & -8 & 5 \\\\\n",
    "3 & 5 & 10\n",
    "\\end{pmatrix}\\begin{pmatrix} x_1 \\\\ x_2 \\\\x_3\\end{pmatrix}=\\begin{pmatrix} 14 \\\\ 5 \\\\ -8\\end{pmatrix}$\n",
    "\n",
    "1) Check that it is diagonally dominant"
   ]
  },
  {
   "cell_type": "code",
   "execution_count": 127,
   "id": "4e85153d-4f53-41e9-87b8-55c3507f110d",
   "metadata": {},
   "outputs": [
    {
     "name": "stdout",
     "output_type": "stream",
     "text": [
      "a is diagonally dominant. Iterative methods will converge.\n"
     ]
    }
   ],
   "source": [
    "a= [[8,3,-3],[-2,-8,5],[3,5,10]]\n",
    "#diagonal coefficients' absolute values\n",
    "diag=np.diag(np.abs(a)) \n",
    "#sum of abs of off-diagonal coefficients\n",
    "off_diag=np.sum(np.abs(a),axis=1)-diag \n",
    "#check all diagonal elements are higher than sums of non-diagonal\n",
    "if np.all(diag>off_diag): \n",
    "    print('a is diagonally dominant. Iterative methods will converge.')\n",
    "else:\n",
    "    print('a is not diagonally dominant')"
   ]
  },
  {
   "cell_type": "markdown",
   "id": "3e96d281-5b63-4052-bb28-30bdef78061f",
   "metadata": {},
   "source": [
    "We now use Gauss-Seidel method to solve for $x_i$, with precision $\\epsilon = 0.01$."
   ]
  },
  {
   "cell_type": "code",
   "execution_count": 131,
   "id": "5ab394c0-5203-44db-87ef-147452a145fa",
   "metadata": {},
   "outputs": [
    {
     "name": "stdout",
     "output_type": "stream",
     "text": [
      "Iteration results\n",
      " k,    x1,    x2,    x3 \n",
      "1, 1.7500, -1.0625, 1.5875\n",
      "2, 2.7437, -0.3188, 2.9275\n",
      "3, 2.9673, 0.4629, 3.8433\n",
      "4, 3.0177, 1.0226, 4.4332\n",
      "5, 3.0290, 1.3885, 4.8059\n",
      "6, 3.0315, 1.6208, 5.0397\n",
      "7, 3.0321, 1.7668, 5.1861\n",
      "8, 3.0322, 1.8582, 5.2776\n",
      "9, 3.0322, 1.9154, 5.3348\n",
      "10, 3.0323, 1.9512, 5.3705\n",
      "11, 3.0323, 1.9735, 5.3929\n",
      "12, 3.0323, 1.9875, 5.4068\n",
      "13, 3.0323, 1.9962, 5.4156\n",
      "14, 3.0323, 2.0017, 5.4210\n",
      "Converged!\n"
     ]
    }
   ],
   "source": [
    "x1 = 0\n",
    "x2 = 0\n",
    "x3 = 0\n",
    "epsilon = 0.01\n",
    "converged = False\n",
    "\n",
    "x_old = np.array([x1, x2, x3])\n",
    "#initial guess for values\n",
    "print('Iteration results')\n",
    "print(' k,    x1,    x2,    x3 ')\n",
    "for k in range(1, 50):\n",
    "    x1 = (14-3*x2+3*x3)/8 #compute x1 from old x2,x3\n",
    "    x2 = (5+2*x1-5*x3)/(-8) #compute x2 from new x1 and old x3\n",
    "    x3 = (-8-3*x1-5*x2)/(-5) #compute x3 from new x1,x2\n",
    "    x = np.array([x1, x2, x3])\n",
    "    # check if difference between old and new is smaller than threshold\n",
    "    dx = np.sqrt(np.dot(x-x_old, x-x_old))\n",
    "    \n",
    "    print(\"%d, %.4f, %.4f, %.4f\"%(k, x1, x2, x3))\n",
    "    if dx < epsilon:\n",
    "        converged = True\n",
    "        print('Converged!')\n",
    "        break\n",
    "        \n",
    "    # assign the latest x value to the old value\n",
    "    x_old = x\n",
    "\n",
    "if not converged:\n",
    "    print('Not converge, increase the # of iterations')"
   ]
  },
  {
   "cell_type": "markdown",
   "id": "92e7d03d-e3a2-4201-be9e-cc66173e16d1",
   "metadata": {},
   "source": [
    "## Methods in numpy and scipy"
   ]
  },
  {
   "cell_type": "markdown",
   "id": "8be3912f-a01f-4089-834c-7927588177bc",
   "metadata": {},
   "source": [
    "Ofc people have already implemented all this in `numpy`. In particular:\n",
    "\n",
    "- `numpy.linalg.solve` takes a matrix $A$ and a vector $y$ as inputs, and solves the linear system $Ax=y$.\n",
    "- `numpy.linalg.inv` takes a matrix $A$ as input, and returns its inverse $A^{-1}$. With it, you can easily obtain $x=A^{-1}y$.\n",
    "- `scipy.linalg.lu` takes a matrix $A$ as input, and returns the tuple $(P,L,U)$ where:\n",
    "   1) $P$ is the _permutation matrix_ that is needed to exchange rows in $A$ in order to get a suitable matrix for $LU$ decomposition\n",
    "   2) $L,U$ represent the $LU$ decomposition of $P\\cdot A$."
   ]
  },
  {
   "cell_type": "code",
   "execution_count": 133,
   "id": "8dc6417e-82e7-473b-9673-b36d3234c2ea",
   "metadata": {},
   "outputs": [],
   "source": [
    "A=np.array([[4,3,-5],[-2,-4,5],[8,8,0]])\n",
    "y=np.array([2,5,-3])"
   ]
  },
  {
   "cell_type": "markdown",
   "id": "6a0c21ba-208c-442d-b8d0-8abcad79b438",
   "metadata": {},
   "source": [
    "Solution using `linalg.solve`:"
   ]
  },
  {
   "cell_type": "code",
   "execution_count": 137,
   "id": "636829c4-a59c-4510-bb41-6b533674ad0b",
   "metadata": {},
   "outputs": [
    {
     "name": "stdout",
     "output_type": "stream",
     "text": [
      "x is [ 2.208 -2.583 -0.183]\n"
     ]
    }
   ],
   "source": [
    "print(f'x is {np.linalg.solve(A,y)}')"
   ]
  },
  {
   "cell_type": "markdown",
   "id": "6d10e912-9eea-420b-b688-0664471802fa",
   "metadata": {},
   "source": [
    "Solution using `linalg.inv` + inverting linear system:"
   ]
  },
  {
   "cell_type": "code",
   "execution_count": 139,
   "id": "8c3b52b5-e512-43bd-977f-99deecc364b4",
   "metadata": {},
   "outputs": [
    {
     "name": "stdout",
     "output_type": "stream",
     "text": [
      "x is [ 2.208 -2.583 -0.183]\n"
     ]
    }
   ],
   "source": [
    "Am1=np.linalg.inv(A)\n",
    "print(f'x is {np.dot(Am1,y)}')"
   ]
  },
  {
   "cell_type": "markdown",
   "id": "b8281f5e-eb55-47ea-ba4b-7d81319a25d7",
   "metadata": {},
   "source": [
    "Solution using $L,U$ decomposition:"
   ]
  },
  {
   "cell_type": "code",
   "execution_count": 323,
   "id": "54cdad02-8905-4547-9351-64e084e5f2ac",
   "metadata": {},
   "outputs": [
    {
     "name": "stdout",
     "output_type": "stream",
     "text": [
      "Matrix([[a], [b], [c]])\n"
     ]
    }
   ],
   "source": [
    "import sympy\n",
    "P,L,U=scipy.linalg.lu(A)\n",
    "PA=dot(P,A)\n",
    "#declare symbolic variables\n",
    "a=sympy.Symbol('a')\n",
    "b=sympy.Symbol('b')\n",
    "c=sympy.Symbol('c')\n",
    "\n",
    "Ux=sympy.Matrix([a,b,c]) #unknown matrix we need to solve for in 1st step of algo\n",
    "print(Ux)"
   ]
  },
  {
   "cell_type": "code",
   "execution_count": 348,
   "id": "9e0b4213-e8df-405a-9c38-8e5fe4853aef",
   "metadata": {},
   "outputs": [
    {
     "name": "stdout",
     "output_type": "stream",
     "text": [
      "Equations to solve are: \n",
      "[[1.0*a - 2.0]\n",
      " [-0.25*a + 1.0*b - 5.0]\n",
      " [0.5*a + 0.5*b + 1.0*c + 3.0]]\n",
      "\n",
      "Solution to L(Ux)=y is given by:\n",
      "Ux=[2.00000000000000, 5.50000000000000, -6.75000000000000]\n"
     ]
    }
   ],
   "source": [
    "# Solve L(Ux)=y in terms of unknowns a,b,c\n",
    "from itertools import chain\n",
    "import array\n",
    "\n",
    "eqns=np.dot(L, Ux)\n",
    "y=np.array([float(el) for el in y])\n",
    "for i in range(len(eqns)):\n",
    "    eqns[i]=eqns[i]-y[i]\n",
    "print(f'Equations to solve are: \\n{eqns}')\n",
    "\n",
    "from sympy.solvers.solvers import solve\n",
    "coeffs=solve(sympy.Matrix(eqns),(a,b,c),dict=True)\n",
    "#coeffs contains the numerical value of Ux\n",
    "coeffs=list(coeffs[0].values())\n",
    "\n",
    "print(f'\\nSolution to L(Ux)=y is given by:\\nUx={coeffs}')"
   ]
  },
  {
   "cell_type": "code",
   "execution_count": 368,
   "id": "4654776b-3b2e-44b5-8008-67a0c2277d99",
   "metadata": {},
   "outputs": [
    {
     "name": "stdout",
     "output_type": "stream",
     "text": [
      "[0.750000000000000, -0.500000000000000, 0.900000000000000]\n"
     ]
    }
   ],
   "source": [
    "#Now we solve U.x=Ux for the unknown x=(a,b,c) (sorry reusing same names due to laziness)\n",
    "sol=solve(np.dot(U,[a,b,c])-coeffs,[a,b,c])\n",
    "sol=list(sol.values())\n",
    "print(sol)"
   ]
  },
  {
   "cell_type": "code",
   "execution_count": 369,
   "id": "3ecc3fbb-017b-466a-8842-aa5053b9a398",
   "metadata": {},
   "outputs": [
    {
     "data": {
      "text/plain": [
       "array([0, 0, 0], dtype=object)"
      ]
     },
     "execution_count": 369,
     "metadata": {},
     "output_type": "execute_result"
    }
   ],
   "source": [
    "#sol is solution to P.A.x=y\n",
    "np.dot(np.dot(P,A),sol)-y"
   ]
  },
  {
   "cell_type": "markdown",
   "id": "50177b85-2f9d-4f63-b575-79283d958607",
   "metadata": {},
   "source": [
    "# Problems"
   ]
  },
  {
   "cell_type": "markdown",
   "id": "a80650ec-729e-4437-8d77-da776e4f39ce",
   "metadata": {},
   "source": [
    "1) Write a function my_is_orthogonal(v1,v2, tol), where 𝑣1 and 𝑣2 are column vectors of the same size and 𝑡𝑜𝑙 is a scalar value strictly larger than 0. The output should be 1 if the angle between 𝑣1 and 𝑣2 is within tol of 𝜋/2; that is, |𝜋/2−𝜃|<tol, and 0 otherwise. "
   ]
  },
  {
   "cell_type": "code",
   "execution_count": 108,
   "id": "ecba024e-489c-4a13-bce2-860fae93fc39",
   "metadata": {},
   "outputs": [],
   "source": [
    "import numpy as np\n",
    "import math\n",
    "def my_is_orthogonal(v1,v2,tol):\n",
    "    norm_v1=v1/np.linalg.norm(v1)\n",
    "    norm_v2=v2/np.linalg.norm(v2)\n",
    "    angle=np.dot(norm_v1.T,norm_v2) #note the transposition of first argument here\n",
    "    x=abs(np.pi/2-np.arccos(angle))\n",
    "    if x<tol:\n",
    "        return 1\n",
    "    else:\n",
    "        return 0"
   ]
  },
  {
   "cell_type": "code",
   "execution_count": 107,
   "id": "4408e20b-5cc3-40b6-8724-2fda6ccb9d7b",
   "metadata": {},
   "outputs": [
    {
     "name": "stdout",
     "output_type": "stream",
     "text": [
      "1:  1\n",
      "0:  0\n",
      "0:  0\n",
      "1:  1\n"
     ]
    }
   ],
   "source": [
    "# Test cases for problem 2\n",
    "a = np.array([[1], [0.001]])\n",
    "b = np.array([[0.001], [1]])\n",
    "# output: 1\n",
    "print('1: ',my_is_orthogonal(a,b, 0.01))\n",
    "\n",
    "# output: 0\n",
    "print('0: ',my_is_orthogonal(a,b, 0.001))\n",
    "\n",
    "# output: 0\n",
    "print('0: ',my_is_orthogonal(np.array([[1], [0.001]]),np.array([[1], [1]]), 0.01))\n",
    "\n",
    "# output: 1\n",
    "print('1: ',my_is_orthogonal(np.array([[1], [1]]),np.array([[-1], [1]]), 1e-10))"
   ]
  },
  {
   "cell_type": "markdown",
   "id": "5ad75d1d-fe5a-4776-84c7-4085d38260be",
   "metadata": {},
   "source": [
    "2) Write a function my_make_lin_ind(A), where 𝐴 and 𝐵 are matrices. Let the 𝑟𝑎𝑛𝑘(𝐴)=𝑛. Then 𝐵 should be a matrix containing the first 𝑛 columns of 𝐴 that are all linearly independent. Note that this implies that 𝐵 is full rank."
   ]
  },
  {
   "cell_type": "code",
   "execution_count": 209,
   "id": "d4283868-f52c-4ed2-afc7-03ba80b0329b",
   "metadata": {},
   "outputs": [],
   "source": [
    "def my_make_lin_ind(A):\n",
    "    n=np.linalg.matrix_rank(A)\n",
    "    B=np.array([])\n",
    "    for row in A.T:\n",
    "        if B.size>0:\n",
    "            Bcon=np.concatenate((B,np.array([row]).T),axis=1)\n",
    "            Bcon=Bcon.T\n",
    "        else:\n",
    "            B=np.array([row]).T\n",
    "            Bcon=B\n",
    "        rank_Bcon=np.linalg.matrix_rank(Bcon)\n",
    "        rank_B=np.linalg.matrix_rank(B)\n",
    "        if rank_Bcon>rank_B:\n",
    "            B=np.append(B,np.array([row]).T,axis=1)\n",
    "    return B"
   ]
  },
  {
   "cell_type": "code",
   "execution_count": 210,
   "id": "1eedc516-9700-4a6c-9b56-eba0b7213123",
   "metadata": {},
   "outputs": [
    {
     "name": "stdout",
     "output_type": "stream",
     "text": [
      "[[ 12  11 -24  15]\n",
      " [ 19  10 -31   9]\n",
      " [  1  21  -5  20]\n",
      " [  6  13 -10   5]\n",
      " [ 22   2 -12  23]]\n"
     ]
    }
   ],
   "source": [
    "## Test cases for problem 4\n",
    "\n",
    "A = np.array([[12,24,0,11,-24,18,15], \n",
    "              [19,38,0,10,-31,25,9], \n",
    "              [1,2,0,21,-5,3,20],\n",
    "              [6,12,0,13,-10,8,5],\n",
    "              [22,44,0,2,-12,17,23]])\n",
    "\n",
    "B = my_make_lin_ind(A)\n",
    "print(B)\n",
    "# B = [[12,11,-24,15],\n",
    "#      [19,10,-31,9],\n",
    "#      [1,21,-5,20],\n",
    "#      [6,13,-10,5],\n",
    "#      [22,2,-12,23]]"
   ]
  },
  {
   "cell_type": "markdown",
   "id": "3414b9b1-217c-4e94-953c-5ace7d141aeb",
   "metadata": {},
   "source": [
    "3) Write a function my_rec_det(M), where the output is 𝑑𝑒𝑡(𝑀). The function should use the minor expansion formula to compute the determinant:$|A|=\\sum_{j=1}^n(-1)^{1+j}a_{1j}M_{1j}$"
   ]
  },
  {
   "cell_type": "code",
   "execution_count": 391,
   "id": "16acb4a2-1d70-4230-b292-aab9c3887c0c",
   "metadata": {},
   "outputs": [],
   "source": [
    "def my_rec_det(M):\n",
    "    global det\n",
    "    det=0 #I'm not fully sure why this does not reset det every time it's called.\n",
    "    n=M.shape[0]\n",
    "    if n==0:\n",
    "        return 0\n",
    "    elif n==1:\n",
    "        return M[0][0]\n",
    "    else:\n",
    "        for j in range(0,n):\n",
    "            det+=((-1)**j)*M[0][j]*my_rec_det(np.delete(np.delete(M,0,axis=0),j,axis=1))\n",
    "    return det"
   ]
  },
  {
   "cell_type": "code",
   "execution_count": 392,
   "id": "6680fb30-ccfb-4381-ac8f-f3e7fecbc14a",
   "metadata": {},
   "outputs": [
    {
     "name": "stdout",
     "output_type": "stream",
     "text": [
      "-40\n",
      "-40.0\n"
     ]
    }
   ],
   "source": [
    "Mat=np.array([[0,2],[20,30]])\n",
    "print(my_rec_det(Mat))\n",
    "print(np.linalg.det(Mat))"
   ]
  },
  {
   "cell_type": "code",
   "execution_count": 393,
   "id": "93039292-9b7c-4a13-8541-bb0c65280f2f",
   "metadata": {},
   "outputs": [
    {
     "name": "stdout",
     "output_type": "stream",
     "text": [
      "10\n",
      "10.000000000000002\n"
     ]
    }
   ],
   "source": [
    "Mat=np.array([[1,1,1],[0,1,1],[10,20,30]])\n",
    "print(my_rec_det(Mat))\n",
    "print(np.linalg.det(Mat))"
   ]
  },
  {
   "cell_type": "code",
   "execution_count": 394,
   "id": "6ee948bb-908c-446d-83e9-73333264f80e",
   "metadata": {},
   "outputs": [
    {
     "name": "stdout",
     "output_type": "stream",
     "text": [
      "21\n",
      "21.0\n"
     ]
    }
   ],
   "source": [
    "Mat=np.array([[1,1,1],[0,1,2],[1,10,40]])\n",
    "print(my_rec_det(Mat))\n",
    "print(np.linalg.det(Mat))"
   ]
  },
  {
   "cell_type": "markdown",
   "id": "606e3e3b-0325-40f0-ba65-7863b6709d7f",
   "metadata": {},
   "source": [
    "__Complexity__: this algo solves (kinda) the recursion equation $T(n)=nT(n-1)\\rightarrow T(n)=O(n!)$ i.e. it's extremely inefficient."
   ]
  },
  {
   "cell_type": "markdown",
   "id": "35b18730-35fc-428b-9061-248cb9be1cfc",
   "metadata": {},
   "source": [
    "4) Write a function my_flow_calculator(S, d), where 𝑆 is a 1×2 vector representing the capacity of each power supply station, and 𝑑 is a 1×5 row vector representing the demands at each node (i.e., 𝑑[0] is the demand at node 1). The output argument, 𝑓, should be a 1×7 row vector denoting the flows in the network (i.e., 𝑓[0]=𝑓1 in the diagram). The flows contained in 𝑓 should satisfy all constraints of the system, like power generation and demands. Note that there may be more than one solution to the system of equations."
   ]
  },
  {
   "cell_type": "code",
   "execution_count": 438,
   "id": "78d3f10c-00be-4a85-9d80-84a9c3c6ffa6",
   "metadata": {},
   "outputs": [],
   "source": [
    "def my_flow_calculator(S, d):\n",
    "    M=np.array([[0,0,-1,1,0,-1,0],[0,0,0,0,1,0,-1],[0,1,0,0,0,0,0],[1,-1,1,0,0,0,0],[0,0,0,0,0,1,1],[1,0,0,0,0,0,0],[0,0,0,1,1,0,0]])\n",
    "    y=np.concatenate((d,S),axis=1)\n",
    "    return np.linalg.lstsq(M,y.T,rcond=-1)"
   ]
  },
  {
   "cell_type": "code",
   "execution_count": 440,
   "id": "ce96355a-1bdc-4a4e-a13c-4667ce4433a9",
   "metadata": {},
   "outputs": [
    {
     "data": {
      "text/plain": [
       "(array([[10. ],\n",
       "        [ 4. ],\n",
       "        [-2. ],\n",
       "        [ 4.5],\n",
       "        [ 5.5],\n",
       "        [ 2.5],\n",
       "        [ 1.5]]),\n",
       " array([], dtype=float64),\n",
       " 6,\n",
       " array([2.18534044e+00, 1.89452256e+00, 1.50872724e+00, 1.41421356e+00,\n",
       "        1.00000000e+00, 5.99010454e-01, 1.58573118e-16]))"
      ]
     },
     "execution_count": 440,
     "metadata": {},
     "output_type": "execute_result"
    }
   ],
   "source": [
    "s = np.array([[10, 10]])\n",
    "d = np.array([[4, 4, 4, 4, 4]])\n",
    "my_flow_calculator(s,d) #3 solutions"
   ]
  },
  {
   "cell_type": "code",
   "execution_count": 441,
   "id": "5cb1682d-2dda-4ea3-98da-e5cf3a989ca6",
   "metadata": {},
   "outputs": [
    {
     "data": {
      "text/plain": [
       "(array([[10. ],\n",
       "        [ 5. ],\n",
       "        [-1. ],\n",
       "        [ 4.5],\n",
       "        [ 5.5],\n",
       "        [ 2.5],\n",
       "        [ 1.5]]),\n",
       " array([], dtype=float64),\n",
       " 6,\n",
       " array([2.18534044e+00, 1.89452256e+00, 1.50872724e+00, 1.41421356e+00,\n",
       "        1.00000000e+00, 5.99010454e-01, 1.58573118e-16]))"
      ]
     },
     "execution_count": 441,
     "metadata": {},
     "output_type": "execute_result"
    }
   ],
   "source": [
    "s = np.array([[10, 10]])\n",
    "d = np.array([[3, 4, 5, 4, 4]])\n",
    "my_flow_calculator(s,d) #3 solutions"
   ]
  }
 ],
 "metadata": {
  "kernelspec": {
   "display_name": "Python 3 (ipykernel)",
   "language": "python",
   "name": "python3"
  },
  "language_info": {
   "codemirror_mode": {
    "name": "ipython",
    "version": 3
   },
   "file_extension": ".py",
   "mimetype": "text/x-python",
   "name": "python",
   "nbconvert_exporter": "python",
   "pygments_lexer": "ipython3",
   "version": "3.11.8"
  }
 },
 "nbformat": 4,
 "nbformat_minor": 5
}
