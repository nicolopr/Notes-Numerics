{
 "cells": [
  {
   "cell_type": "markdown",
   "id": "a670a5e1-35cf-443a-b62f-57867551a1f1",
   "metadata": {},
   "source": [
    "# Taylor Series"
   ]
  },
  {
   "cell_type": "markdown",
   "id": "17e475ba-bc72-4300-b022-eb0380e2552c",
   "metadata": {},
   "source": [
    "We will always talk about Taylor series truncated at finite order $N$. This induces __truncation errors__:\n",
    "<center>$f(x)=f_n(x)+e_n(x)=\\sum_{k=0}^n \\dfrac{f^{(k)}(a) (x-a)^k}{k!}+e_n(x)$</center>"
   ]
  },
  {
   "cell_type": "markdown",
   "id": "db8012bc-4604-4dcf-8d1b-c00d380bbc01",
   "metadata": {},
   "source": [
    "The __Taylor Remainder Estimation theorem__ lets us estimate $e_n(x)$.\n",
    "\n",
    "If $f(x)$ has $n+1$ derivatives $\\forall x \\in I$ and $a\\in I$, then $\\forall x \\in I, \\exists z, x\\geq z \\geq a$, such that:\n",
    "<center> $ e_n(x)=\\dfrac{f^{(n+1)}(z)(x-a)^{n+1}}{(n+1)!}$</center>"
   ]
  },
  {
   "cell_type": "markdown",
   "id": "97edd936-a216-4503-9641-4abbfc37ace7",
   "metadata": {},
   "source": [
    "If $M=max_{x\\in I} |f_n(x)|$, then this implies that $|e_n(x)|\\leq \\dfrac{M |x-a|^{n+1}}{(n+1)!} $, aka a __bound__ on the truncation error."
   ]
  },
  {
   "cell_type": "markdown",
   "id": "6d48ccc0-9868-4cbc-8e67-06a70f252d5f",
   "metadata": {},
   "source": [
    "# Exercises"
   ]
  },
  {
   "cell_type": "markdown",
   "id": "618b9481-4a12-4974-a568-70b35866919e",
   "metadata": {},
   "source": [
    "1) Write the Taylor series expansion for $e^{x}$ around 𝑎=0. Write a function my_double_exp(x, n), which computes an approximation of $e^{x}$ using the first 𝑛 terms of the Taylor series expansion. Be sure that my_double_exp can take array inputs.\n",
    "\n",
    "   This was tbd with $e^{x^2}$ but afaik coefficients of this series expansion do not have a closed form... So idk what they wanted"
   ]
  },
  {
   "cell_type": "code",
   "execution_count": 41,
   "id": "fc0fdbbe-0b26-4006-b240-18c57b0bb211",
   "metadata": {},
   "outputs": [],
   "source": [
    "import math\n",
    "def my_double_exp(x,n):\n",
    "    def dbexp(x,n):\n",
    "        approx=0\n",
    "        order=0\n",
    "        while order<=n:\n",
    "            approx+=x**order/(math.factorial(order))\n",
    "            order+=1\n",
    "        return approx\n",
    "    if type(x)==list:\n",
    "        list_exp=[]\n",
    "        for element in x:\n",
    "            list_exp.append(dbexp(element,n))\n",
    "        return list_exp\n",
    "    return dbexp(x,n)"
   ]
  },
  {
   "cell_type": "code",
   "execution_count": 42,
   "id": "4b859d11-ed06-4546-8fe3-ff3f009237b1",
   "metadata": {},
   "outputs": [
    {
     "data": {
      "text/plain": [
       "22026.465794806718"
      ]
     },
     "execution_count": 42,
     "metadata": {},
     "output_type": "execute_result"
    }
   ],
   "source": [
    "my_double_exp(10,25)\n",
    "np.exp(10)"
   ]
  },
  {
   "cell_type": "markdown",
   "id": "ec413ec2-a4dc-4df7-bbcb-bb6cccbb7dbf",
   "metadata": {},
   "source": [
    "2) Write a function that gives the Taylor series approximation to the np.exp function around 0 for order 1 through 7. Calculate the truncation error bound for order 7."
   ]
  },
  {
   "cell_type": "code",
   "execution_count": 43,
   "id": "7f24af5c-77ef-493d-818a-089870fa9ed0",
   "metadata": {},
   "outputs": [],
   "source": [
    "def exp_trunc_error(x,n):\n",
    "    approx=0\n",
    "    order=0\n",
    "    while order<=n:\n",
    "        approx+=x**order/(math.factorial(order))\n",
    "        order+=1\n",
    "    # exp is monotonous so max is always x\n",
    "    error= np.exp(x)*(x)**(n+1)/(math.factorial(n+1))\n",
    "    return approx,error"
   ]
  },
  {
   "cell_type": "code",
   "execution_count": 53,
   "id": "5134e4f8-7be6-4ba7-be75-c31959f74c42",
   "metadata": {},
   "outputs": [
    {
     "name": "stdout",
     "output_type": "stream",
     "text": [
      "(1.1051709180756473, 7.124992304640722e-118)\n",
      "1.1051709180756477\n",
      "(6.4557612562140974e+35, 1.7330182722109714e+79)\n",
      "2.6881171418161356e+43\n"
     ]
    }
   ],
   "source": [
    "print(exp_trunc_error(0.1,50))\n",
    "print(np.exp(0.1))\n",
    "print(exp_trunc_error(100,50)) #very far from 0 so very bad approx\n",
    "print(np.exp(100))"
   ]
  },
  {
   "cell_type": "code",
   "execution_count": 39,
   "id": "9993d57b-4d76-4d53-be26-81c4ca05dca5",
   "metadata": {},
   "outputs": [
    {
     "data": {
      "text/plain": [
       "1.1051709180756477"
      ]
     },
     "execution_count": 39,
     "metadata": {},
     "output_type": "execute_result"
    }
   ],
   "source": []
  },
  {
   "cell_type": "code",
   "execution_count": null,
   "id": "6afb00c9-6e9b-4618-b018-e9975d0d3e18",
   "metadata": {},
   "outputs": [],
   "source": []
  }
 ],
 "metadata": {
  "kernelspec": {
   "display_name": "Python 3 (ipykernel)",
   "language": "python",
   "name": "python3"
  },
  "language_info": {
   "codemirror_mode": {
    "name": "ipython",
    "version": 3
   },
   "file_extension": ".py",
   "mimetype": "text/x-python",
   "name": "python",
   "nbconvert_exporter": "python",
   "pygments_lexer": "ipython3",
   "version": "3.11.8"
  }
 },
 "nbformat": 4,
 "nbformat_minor": 5
}
