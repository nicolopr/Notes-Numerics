{
 "cells": [
  {
   "cell_type": "markdown",
   "id": "4646a3b8-19e8-457e-b495-ce2fa0c3c7e0",
   "metadata": {},
   "source": [
    "# Root Finding"
   ]
  },
  {
   "cell_type": "markdown",
   "id": "2ef8cd5d-8c5c-48d6-b594-0988bd9025c9",
   "metadata": {},
   "source": [
    "### scipy.optimize.fsolve"
   ]
  },
  {
   "cell_type": "markdown",
   "id": "0776797c-0de7-498a-bb0c-4ea75c077fbe",
   "metadata": {},
   "source": [
    "The first tool is the `scipy.optimize` function `fsolve`. It takes two arguments:\n",
    "- a function `f`\n",
    "- a point `x` near which to search for a root of `f`."
   ]
  },
  {
   "cell_type": "code",
   "execution_count": 3,
   "id": "01cd23f7-caf6-473f-b877-e3f2cff18f63",
   "metadata": {},
   "outputs": [
    {
     "name": "stdout",
     "output_type": "stream",
     "text": [
      "root for f is [0.73908513]\n",
      "r = [-3.52047359e+83]\n",
      "result= [3.52047359e+83]\n",
      "The number of calls to function has reached maxfev = 400.\n"
     ]
    }
   ],
   "source": [
    "import numpy as np\n",
    "from scipy.optimize import fsolve\n",
    "f= lambda x : np.cos(x)-x\n",
    "print('root for f is',fsolve(f,-2))\n",
    "g=lambda x :1/x\n",
    "r, infodict, ier, mesg = fsolve(g, -2, full_output=True)\n",
    "print(\"r =\", r)\n",
    "\n",
    "result = f(r)\n",
    "print(\"result=\", result)\n",
    "\n",
    "print(mesg)\n",
    "#g has no root so the algorithm does not converge."
   ]
  },
  {
   "cell_type": "markdown",
   "id": "3fbc8c72-57e6-41fb-a61a-9a7b545a4967",
   "metadata": {},
   "source": [
    "### Bisection method"
   ]
  },
  {
   "cell_type": "markdown",
   "id": "6731e62b-2e40-40d0-adea-8e7e43c4f8dd",
   "metadata": {},
   "source": [
    "This is basically a __binary search__ method based on the prerequisite that, if $f(a)>0$ and $f(b)<0$ (or viceversa) and $f$ is continuous, there must be a root of $f$ in the interval $(a,b)$."
   ]
  },
  {
   "cell_type": "code",
   "execution_count": 44,
   "id": "48af7f2b-ec35-4f14-94fd-1bf4b34adf15",
   "metadata": {},
   "outputs": [],
   "source": [
    "def bisection_root(f,a,b,tol):\n",
    "    #assume f(a)!=0\n",
    "    if np.sign(f(a)) == np.sign(f(b)):\n",
    "        raise Exception(\n",
    "         \"The scalars a and b do not bound a root\")\n",
    "        \n",
    "    m=(a+b)/2\n",
    "    if np.abs(f(m)) < tol:\n",
    "        # stopping condition, report m as root\n",
    "        return m\n",
    "    elif np.sign(f(a)) == np.sign(f(m)):\n",
    "        #f(m) has same sign as f(a)\n",
    "        return bisection_root(f, m, b, tol)\n",
    "    elif np.sign(f(b)) == np.sign(f(m)):\n",
    "        #f(m) has same sign as f(b)\n",
    "        return bisection_root(f, a, m, tol)"
   ]
  },
  {
   "cell_type": "code",
   "execution_count": 45,
   "id": "b856cd83-6089-4810-81a9-e00406bbd6ad",
   "metadata": {},
   "outputs": [
    {
     "data": {
      "text/plain": [
       "0.6181640625"
      ]
     },
     "execution_count": 45,
     "metadata": {},
     "output_type": "execute_result"
    }
   ],
   "source": [
    "bisection_root(lambda x:x**2-1+x,-1,1,0.001)"
   ]
  },
  {
   "cell_type": "markdown",
   "id": "02d29658-3802-4765-bb5b-137f92d93d26",
   "metadata": {},
   "source": [
    "### Newton-Raphson method"
   ]
  },
  {
   "cell_type": "markdown",
   "id": "f908c645-c0ec-49c5-ac85-bf4991988bd8",
   "metadata": {},
   "source": [
    "Let $f$ be smooth and $x_r$ an unknown root. Suppose $x_0$ is a good approximation of $x_r$, i.e. $f(x_0)$ is \"small enough\". You want to improve on estimation of $x_r$ by finding an $x_1$ which is closer to it than $x_0$.\n",
    "\n",
    "If $x_0$ is close to $x_r$, you can take a linear approximation: $f(x_1)\\sim f(x_0)+f'(x_0)(x_1-x_0)$. Imposing that $f(x_1)=0$, this becomes:\n",
    "<center> $0=f(x_0)+f'(x_0)(x_1-x_0)\\rightarrow x_1=x_0-\\dfrac{f(x_0)}{f'(x_0)}$</center>\n",
    "Basically the point $x_1$ is where the tangent to $f(x_0)$ intersecates the $x$ axis.\n",
    "\n",
    "This method gets iterated until $f(x_n)$ is smaller than a given tolerance for some $n$. The steps are:\n",
    "<center> $x_i=x_{i-1}-\\dfrac{f(x_{i-1})}{f'(x_{i-1})}$</center>"
   ]
  },
  {
   "cell_type": "code",
   "execution_count": 57,
   "id": "b7b24382-1cb3-4f5f-b96b-cd22a939550b",
   "metadata": {},
   "outputs": [],
   "source": [
    "f=lambda x: x**3+x**2-4*x -1\n",
    "fp=lambda x: 3*x**2+2*x-4\n",
    "def newton_raphson(x0,tol):\n",
    "    if np.abs(f(x0))<tol:\n",
    "        return x0\n",
    "    x0=x0-f(x0)/fp(x0)\n",
    "    return newton_raphson(x0,tol)"
   ]
  },
  {
   "cell_type": "code",
   "execution_count": 67,
   "id": "2cdf4246-864f-4469-9793-a1d257a2b0d2",
   "metadata": {},
   "outputs": [
    {
     "name": "stdout",
     "output_type": "stream",
     "text": [
      "1.6996281482799458\n",
      "-0.23912426707017212\n",
      "-2.460504870019674\n"
     ]
    }
   ],
   "source": [
    "#solutions are -2.46,-0.23,1.69\n",
    "print(newton_raphson(2,0.000001))\n",
    "print(newton_raphson(-0.5,0.00001))\n",
    "print(newton_raphson(-2,0.00001))"
   ]
  },
  {
   "cell_type": "markdown",
   "id": "0e174bae-2a83-4b6b-9afb-55bd04341fc1",
   "metadata": {},
   "source": [
    "If $x_0$ is close to $x_r$, the Newton-Raphson converges much faster than the bisection method.\n",
    "\n",
    "However:\n",
    "- Without a good guess $x_0$ convergence speed is hard to determine.\n",
    "- Even with a good guess $x_0$, we can have stability problems if $f'(x_0)\\sim 0$, as the \"Newton step\" $f(x_0)/f'(x_0)$ will be large and will lead away from $x_0$.\n",
    "- There's no precise way to tell to which root the algorithm will converge to."
   ]
  },
  {
   "cell_type": "markdown",
   "id": "9a3b1736-5c1a-45b2-ab19-ccb83a970a23",
   "metadata": {},
   "source": [
    "__Example__ Consider the polynomial $f(x)=x^3−100 x^2−x+100$. This polynomial has a root at $x=1$ and $x=100$. We use the Newton-Raphson to find a root of $f$ starting at $x_0=0$."
   ]
  },
  {
   "cell_type": "code",
   "execution_count": 73,
   "id": "7be1c522-afca-4981-a0bd-b44216b55e69",
   "metadata": {},
   "outputs": [
    {
     "name": "stdout",
     "output_type": "stream",
     "text": [
      "100.0\n"
     ]
    }
   ],
   "source": [
    "def newton_raphson_generic(f,df,x0,tol):\n",
    "    if abs(f(x0))<tol:\n",
    "        return x0\n",
    "    x0=x0-f(x0)/df(x0)\n",
    "    return newton_raphson_generic(f,df,x0,tol)\n",
    "\n",
    "poly=lambda x: x**3-100*x**2-x+100\n",
    "dpoly=lambda x: 3*x**2-200*x-1\n",
    "\n",
    "print(newton_raphson_generic(poly,dpoly,0,0.0001))"
   ]
  },
  {
   "cell_type": "markdown",
   "id": "93038984-54da-4f65-ae17-40ab7e64b6a6",
   "metadata": {},
   "source": [
    "Even if we started near the root at $1$, the algorithm converged to the other root! This is because already at the very first step we had:\n",
    "<center> $x_1=0-\\frac{100}{-1}=100$ which is the second root of the polynomial.</center>"
   ]
  },
  {
   "cell_type": "markdown",
   "id": "77625997-1fd9-46b2-a49f-7fd0bce84dff",
   "metadata": {},
   "source": [
    "# Root finding in Python"
   ]
  },
  {
   "cell_type": "markdown",
   "id": "6ebcc6cc-d46a-4048-975a-87a247a9fa5f",
   "metadata": {},
   "source": [
    "The `scipy.optimize` package has a root finding function, `fsolve`. Apparently, it uses a modified Newton-Raphson algorithm (Powell's dog-leg method). It takes many arguments:\n",
    "- `func` is the callable function\n",
    "- `x0` is the starting point(s) (can be a `list`)\n",
    "- `args` are extra arguments that you want to pass to `func`, by default they are `None`\n",
    "- `fprime` if you want to pass to it the Jacobian matrix (i.e. partial derivatives matrix), otherwise it is automatically computed\n",
    "- `xtol`: calculation will stop if difference between two consecutive iterations is lower than `xtol`\n",
    "- `maxfev`: maximum number of iterations. By default it's `(len(x0)+1)*100`\n",
    "\n",
    "  Note that only `func` and `x0` are required."
   ]
  },
  {
   "cell_type": "code",
   "execution_count": 77,
   "id": "0c3c2917-31f4-4de6-964f-68701b0d2c75",
   "metadata": {},
   "outputs": [
    {
     "data": {
      "text/plain": [
       "array([  1., 100.])"
      ]
     },
     "execution_count": 77,
     "metadata": {},
     "output_type": "execute_result"
    }
   ],
   "source": [
    "from scipy.optimize import fsolve\n",
    "\n",
    "f = lambda x: x**3-100*x**2-x+100\n",
    "\n",
    "fsolve(f, [2, 80]) #two starting points to find two different roots"
   ]
  },
  {
   "cell_type": "markdown",
   "id": "c35e7566-15a7-4239-a1f7-f5c59f36a322",
   "metadata": {},
   "source": [
    "## Problems"
   ]
  },
  {
   "cell_type": "markdown",
   "id": "9f936f6d-15ff-4c93-a5a7-76ece4d990da",
   "metadata": {},
   "source": [
    "1) Write a function 𝑚𝑦_𝑓𝑖𝑥𝑒𝑑_𝑝𝑜𝑖𝑛𝑡(𝑓,𝑔,𝑡𝑜𝑙,𝑚𝑎𝑥𝑖𝑡𝑒𝑟), where 𝑓 and 𝑔 are function objects and 𝑡𝑜𝑙 and 𝑚𝑎𝑥_𝑖𝑡𝑒𝑟 are strictly positive scalars. The input argument, 𝑚𝑎𝑥_𝑖𝑡𝑒𝑟, is also an integer. The output argument, 𝑋, should be a scalar satisfying |𝑓(𝑋)−𝑔(𝑋)|<𝑡𝑜𝑙; that is, 𝑋 is a point that (almost) satisfies 𝑓(𝑋)=𝑔(𝑋). To find 𝑋, you should use the Bisection method with error metric, |𝐹(𝑚)|<𝑡𝑜𝑙. The function 𝑚𝑦_𝑓𝑖𝑥𝑒𝑑_𝑝𝑜𝑖𝑛𝑡 should “give up” after 𝑚𝑎𝑥_𝑖𝑡𝑒𝑟 number of iterations and return 𝑋=[] if this occurs."
   ]
  },
  {
   "cell_type": "code",
   "execution_count": 4,
   "id": "a2b0ba2b-2fd6-4f46-8f29-e3eb33655b1a",
   "metadata": {},
   "outputs": [],
   "source": [
    "def my_fixed_point(f,g,a,b,tol,maxiter):\n",
    "    F=lambda x:f(x)-g(x)\n",
    "    if maxiter>0:\n",
    "        m=(a+b)/2\n",
    "        if np.abs(F(m))<tol:\n",
    "            return m\n",
    "        elif np.sign(F(m))==np.sign(F(a)):\n",
    "            return my_fixed_point(f,g,m,b,tol,maxiter-1)\n",
    "        elif np.sign(F(m))==np.sign(F(b)):\n",
    "            return my_fixed_point(f,g,a,m,tol,maxiter-1)\n",
    "        else:\n",
    "            return []\n",
    "    else:\n",
    "        return []"
   ]
  },
  {
   "cell_type": "code",
   "execution_count": 5,
   "id": "89f70f84-90f4-4997-87af-2801a6976980",
   "metadata": {},
   "outputs": [
    {
     "name": "stdout",
     "output_type": "stream",
     "text": [
      "1.00048828125\n",
      "0.00019531250000002468\n"
     ]
    }
   ],
   "source": [
    "print(my_fixed_point(lambda x:x**2-1, lambda x:x-1, 0.5,3,0.001,10))\n",
    "print(my_fixed_point(lambda x:x**2-1, lambda x:x-1, -1,0.8,0.001,10))\n",
    "#The two fixed points are 0 and 1"
   ]
  },
  {
   "cell_type": "markdown",
   "id": "1503950d-cf70-4359-b06f-0aad263d448a",
   "metadata": {},
   "source": [
    "4) Write a function 𝑚𝑦_𝑏𝑖𝑠𝑒𝑐𝑡𝑖𝑜𝑛(𝑓,𝑎,𝑏,𝑡𝑜𝑙), that returns [𝑅,𝐸], where 𝑓 is a function object, 𝑎 and 𝑏 are scalars such that 𝑎<𝑏, and 𝑡𝑜𝑙 is a strictly positive scalar value. The function should return an array, 𝑅, where 𝑅[𝑖] is the estimation of the root of 𝑓 defined by (𝑎+𝑏)/2 for the 𝑖-th iteration of the bisection method. Remember to include the initial estimate. The function should also return an array, 𝐸, where 𝐸[𝑖] is the value of |𝑓(𝑅[𝑖])| for the 𝑖-th iteration of the bisection method. The function should terminate when 𝐸(𝑖)<𝑡𝑜𝑙. You may assume that sign(𝑓(𝑎))≠sign(𝑓(𝑏))."
   ]
  },
  {
   "cell_type": "code",
   "execution_count": 4,
   "id": "e867a334-9d80-4668-8cb2-c66acedaa8be",
   "metadata": {},
   "outputs": [],
   "source": [
    "def my_bisection(f,a,b,tol,R=[],E=[]):\n",
    "    m=(a+b)/2\n",
    "    m=(a+b)/2\n",
    "    R.append(m)\n",
    "    E.append(np.abs(f(m)))\n",
    "    if np.abs(f(m))<tol:\n",
    "        return R,E\n",
    "    if np.sign(f(m))==np.sign(f(a)):\n",
    "        return my_bisection(f,m,b,tol,R,E)\n",
    "    elif np.sign(f(m))==np.sign(f(b)):\n",
    "        return my_bisection(f,a,m,tol,R,E)\n",
    "    else:\n",
    "        return 'nope'"
   ]
  },
  {
   "cell_type": "code",
   "execution_count": 5,
   "id": "9c414e97-77b3-4a0b-a275-545d6952c42f",
   "metadata": {},
   "outputs": [
    {
     "name": "stdout",
     "output_type": "stream",
     "text": [
      "[1.0, 1.5, 1.25, 1.375, 1.4375]\n",
      "[1.0, 0.25, 0.4375, 0.109375, 0.06640625]\n"
     ]
    }
   ],
   "source": [
    "#test\n",
    "f = lambda x: x**2 - 2\n",
    "R1, E1 = my_bisection(f, 0, 2, 1e-1)\n",
    "#Out: R = [1, 1.5, 1.25, 1.375, 1.4375]\n",
    "# E = [1, 0.25, 0.4375, 0.109375, 0.06640625]\n",
    "print(R1)\n",
    "print(E1)"
   ]
  },
  {
   "cell_type": "code",
   "execution_count": 8,
   "id": "37630d91-0bef-4dd7-9e60-9d0150a73dbe",
   "metadata": {},
   "outputs": [
    {
     "name": "stdout",
     "output_type": "stream",
     "text": [
      "[1.0, 1.5, 1.25, 1.375, 1.4375, 1.0, 0.5, 0.75, 0.875, 0.8125, 0.78125, 1.0, 0.5, 0.75, 0.875, 0.8125, 0.78125, 1.0, 0.5, 0.75, 0.875, 0.8125, 0.78125]\n",
      "[1.0, 0.25, 0.4375, 0.109375, 0.06640625, 0.30116867893975674, 0.39815702328616975, 0.050050108850486774, 0.126546644072702, 0.038323093040207756, 0.005866372111545948, 0.30116867893975674, 0.39815702328616975, 0.050050108850486774, 0.126546644072702, 0.038323093040207756, 0.005866372111545948, 0.30116867893975674, 0.39815702328616975, 0.050050108850486774, 0.126546644072702, 0.038323093040207756, 0.005866372111545948]\n"
     ]
    }
   ],
   "source": [
    "#test 2\n",
    "f = lambda x: np.sin(x) - np.cos(x)\n",
    "[R2, E2] = my_bisection(f, 0, 2, 1e-2)\n",
    "#Out: R = [1, 0.5, 0.75, 0.875, 0.8125, 0.78125]\n",
    "#    E = [0.30116867893975674, 0.39815702328616975, 0.05005010885048666, 0.12654664407270177, 0.038323093040207645, 0.005866372111545948]\n",
    "print(R2)\n",
    "print(E2)"
   ]
  },
  {
   "cell_type": "markdown",
   "id": "8b4295c9-cc21-4ee0-821b-00a8a180560f",
   "metadata": {},
   "source": [
    "3) Write a function 𝑚𝑦_𝑛𝑒𝑤𝑡𝑜𝑛(𝑓,𝑑𝑓,𝑥0,𝑡𝑜𝑙), that returns [𝑅,𝐸], where 𝑓 is a function object, 𝑑𝑓 is a function object to the derivative of 𝑓, 𝑥0 is an initial estimation of the root, and 𝑡𝑜𝑙 is a strictly positive scalar. The function should return an array, 𝑅, where 𝑅[𝑖)] is the Newton-Raphson estimation of the root of 𝑓 for the 𝑖-th iteration. Remember to include the initial estimate. The function should also return an array, 𝐸, where 𝐸[𝑖] is the value of |𝑓(𝑅[𝑖])| for the 𝑖-th iteration of the Newton-Raphson method. The function should terminate when 𝐸(𝑖)<𝑡𝑜𝑙. You may assume that the derivative of 𝑓 will not hit 0 during any iteration for any of the test cases given."
   ]
  },
  {
   "cell_type": "code",
   "execution_count": 25,
   "id": "159a8e6a-c2f6-4e43-aba1-53fec8756539",
   "metadata": {},
   "outputs": [],
   "source": [
    "def my_newton(f,df,x0,tol,R=None,E=None):\n",
    "    if R is None:\n",
    "        R=[]\n",
    "    if E is None:\n",
    "        E=[]\n",
    "    R.append(x0)\n",
    "    val=np.abs(f(x0))\n",
    "    E.append(val)\n",
    "    if val<tol:\n",
    "        return R,E\n",
    "    x0=x0-f(x0)/df(x0)\n",
    "    return my_newton(f,df,x0,tol,R,E)"
   ]
  },
  {
   "cell_type": "code",
   "execution_count": 26,
   "id": "f9238dbf-86a0-4de7-9a2a-9c79acdf37b5",
   "metadata": {},
   "outputs": [
    {
     "name": "stdout",
     "output_type": "stream",
     "text": [
      "[1, 1.5, 1.4166666666666667, 1.4142156862745099] \n",
      " [1, 0.25, 0.006944444444444642, 6.007304882871267e-06]\n"
     ]
    }
   ],
   "source": [
    "#test 1 \n",
    "f = lambda x: x**2 - 2\n",
    "df = lambda x: 2*x\n",
    "[R, E] = my_newton(f, df, 1, 1e-5)\n",
    "#Out: R = [1, 1.5, 1.4166666666666667, 1.4142156862745099]\n",
    "#     E = [1, 0.25, 0.006944444444444642, 6.007304882871267e-06]\n",
    "print(R,'\\n',E)"
   ]
  },
  {
   "cell_type": "code",
   "execution_count": 27,
   "id": "c5c3be46-093b-4960-bc80-7760e39c5d46",
   "metadata": {},
   "outputs": [
    {
     "name": "stdout",
     "output_type": "stream",
     "text": [
      "[1, 0.782041901539138, 0.7853981759997019] \n",
      " [0.30116867893975674, 0.004746462127804163, 1.7822277875723103e-08]\n"
     ]
    }
   ],
   "source": [
    "#test 2\n",
    "f = lambda x: np.sin(x) - np.cos(x)\n",
    "df = lambda x: np.cos(x) + np.sin(x)\n",
    "[R, E] = my_newton(f, df, 1, 1e-5)\n",
    "#Out: R = [1, 0.782041901539138, 0.7853981759997019]\n",
    "#    E = [0.30116867893975674, 0.004746462127804163, 1.7822277875723103e-08]\n",
    "print(R,'\\n',E)"
   ]
  },
  {
   "cell_type": "code",
   "execution_count": 28,
   "id": "a009f852-186f-498b-a10a-6d840e660144",
   "metadata": {},
   "outputs": [],
   "source": [
    "# alternative with closure\n",
    "def my_newton_closure(f, df, x0, tol):\n",
    "    R = []\n",
    "    E = []\n",
    "\n",
    "    def _my_newton(x):\n",
    "        R.append(x)\n",
    "        val = np.abs(f(x))\n",
    "        E.append(val)\n",
    "        if val < tol:\n",
    "            return R, E\n",
    "        x = x - f(x) / df(x)\n",
    "        return _my_newton(x)\n",
    "\n",
    "    return _my_newton(x0)"
   ]
  },
  {
   "cell_type": "code",
   "execution_count": 32,
   "id": "41667571-4325-4595-be8c-d51d3f954263",
   "metadata": {},
   "outputs": [
    {
     "name": "stdout",
     "output_type": "stream",
     "text": [
      "[1, 0.782041901539138, 0.7853981759997019] \n",
      " [0.30116867893975674, 0.004746462127804163, 1.7822277875723103e-08]\n"
     ]
    }
   ],
   "source": [
    "#test\n",
    "f = lambda x: np.sin(x) - np.cos(x)\n",
    "df = lambda x: np.cos(x) + np.sin(x)\n",
    "[R, E] = my_newton_closure(f, df, 1, 1e-5)\n",
    "#Out: R = [1, 0.782041901539138, 0.7853981759997019]\n",
    "#    E = [0.30116867893975674, 0.004746462127804163, 1.7822277875723103e-08]\n",
    "print(R,'\\n',E)"
   ]
  },
  {
   "cell_type": "markdown",
   "id": "1d36f2d4-925f-47da-acae-bb0907565f14",
   "metadata": {},
   "source": [
    "4) Consider the problem of building a pipeline from an offshore oil platform, a distance 𝐻 miles from the shoreline, to an oil refinery station on land, a distance 𝐿 miles along the shore. The cost of building the pipe is $𝐶_{ocean/mile}$ while the pipe is under the ocean and $𝐶_{land/mile}$ while the pipe is on land. The pipe will be built in a straight line toward the shore where it will make contact at some point, 𝑥, between 0 and 𝐿. It will continue along the shore on land until it reaches the oil refinery. \n",
    "Write a function 𝑚𝑦_𝑝𝑖𝑝𝑒_𝑏𝑢𝑖𝑙𝑑𝑒𝑟(𝐶_𝑜𝑐𝑒𝑎𝑛,𝐶_𝑙𝑎𝑛𝑑,𝐿,𝐻), where the input arguments are as described earlier, and 𝑥 is the x-value that minimizes the total cost of the pipeline. You should use the bisection method to determine this value to within a tolerance of 1×10−6 starting at an initial bound of 𝑎=0 and 𝑏=𝐿."
   ]
  },
  {
   "cell_type": "markdown",
   "id": "d0be0c34-5381-4a82-8f3e-600f17ab65e4",
   "metadata": {},
   "source": [
    "<center> $C_{tot}= C_{o} l_{o}+C_{g} l_{g}= C_{g} (L-x)+C_{o} \\sqrt{x^2+H^2}$ </center>\n",
    "Need to find x minimising this quantity. Thus:\n",
    "<center> $x$ is $x_0$ s.t. $C'(x)|_{x=x_0}=0 \\rightarrow -C_{g}+C_{o}\\frac{x}{\\sqrt{x^2+H^2}}=0$</center>"
   ]
  },
  {
   "cell_type": "code",
   "execution_count": 33,
   "id": "3dcb6764-ac15-46f1-a5c2-49959c5d16fc",
   "metadata": {},
   "outputs": [],
   "source": [
    "def my_pipe_builder(C_ocean, C_land, L, H):\n",
    "    f=lambda x: -C_land+C_ocean*x/(np.sqrt(x**2+H**2))\n",
    "    a,b=(0,L)\n",
    "    tol=1e-6\n",
    "    def _bisection(a,b,tol):\n",
    "        m=(a+b)/2\n",
    "        if np.abs(f(m))<tol:\n",
    "            return m\n",
    "        if np.sign(f(m))==np.sign(f(a)):\n",
    "            return _bisection(m,b,tol)\n",
    "        elif np.sign(f(m))==np.sign(f(b)):\n",
    "            return _bisection(a,m,tol)\n",
    "        else:\n",
    "            return None\n",
    "    return _bisection(a,b,tol)"
   ]
  },
  {
   "cell_type": "code",
   "execution_count": 37,
   "id": "c216a7af-7518-4348-9e68-bb016a1feaa5",
   "metadata": {},
   "outputs": [
    {
     "name": "stdout",
     "output_type": "stream",
     "text": [
      "28.867512941360474\n",
      "17.67767071723938\n",
      "7.07106739282608\n"
     ]
    }
   ],
   "source": [
    "#test\n",
    "print(my_pipe_builder(20, 10, 100, 50))\n",
    "print(my_pipe_builder(30, 10, 100, 50))\n",
    "print(my_pipe_builder(30, 10, 100, 20))"
   ]
  }
 ],
 "metadata": {
  "kernelspec": {
   "display_name": "Python 3 (ipykernel)",
   "language": "python",
   "name": "python3"
  },
  "language_info": {
   "codemirror_mode": {
    "name": "ipython",
    "version": 3
   },
   "file_extension": ".py",
   "mimetype": "text/x-python",
   "name": "python",
   "nbconvert_exporter": "python",
   "pygments_lexer": "ipython3",
   "version": "3.11.8"
  }
 },
 "nbformat": 4,
 "nbformat_minor": 5
}
