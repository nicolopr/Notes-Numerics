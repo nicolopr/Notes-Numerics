{
 "cells": [
  {
   "cell_type": "markdown",
   "id": "4646a3b8-19e8-457e-b495-ce2fa0c3c7e0",
   "metadata": {},
   "source": [
    "# Root Finding"
   ]
  },
  {
   "cell_type": "markdown",
   "id": "2ef8cd5d-8c5c-48d6-b594-0988bd9025c9",
   "metadata": {},
   "source": [
    "### scipy.optimize.fsolve"
   ]
  },
  {
   "cell_type": "markdown",
   "id": "0776797c-0de7-498a-bb0c-4ea75c077fbe",
   "metadata": {},
   "source": [
    "The first tool is the `scipy.optimize` function `fsolve`. It takes two arguments:\n",
    "- a function `f`\n",
    "- a point `x` near which to search for a root of `f`."
   ]
  },
  {
   "cell_type": "code",
   "execution_count": 14,
   "id": "01cd23f7-caf6-473f-b877-e3f2cff18f63",
   "metadata": {},
   "outputs": [
    {
     "name": "stdout",
     "output_type": "stream",
     "text": [
      "root for f is [0.73908513]\n",
      "r = [-3.52047359e+83]\n",
      "result= [3.52047359e+83]\n",
      "The number of calls to function has reached maxfev = 400.\n"
     ]
    }
   ],
   "source": [
    "import numpy as np\n",
    "from scipy.optimize import fsolve\n",
    "f= lambda x : np.cos(x)-x\n",
    "print('root for f is',fsolve(f,-2))\n",
    "g=lambda x :1/x\n",
    "r, infodict, ier, mesg = fsolve(g, -2, full_output=True)\n",
    "print(\"r =\", r)\n",
    "\n",
    "result = f(r)\n",
    "print(\"result=\", result)\n",
    "\n",
    "print(mesg)\n",
    "#g has no root so the algorithm does not converge."
   ]
  },
  {
   "cell_type": "markdown",
   "id": "3fbc8c72-57e6-41fb-a61a-9a7b545a4967",
   "metadata": {},
   "source": [
    "### Bisection method"
   ]
  },
  {
   "cell_type": "markdown",
   "id": "6731e62b-2e40-40d0-adea-8e7e43c4f8dd",
   "metadata": {},
   "source": [
    "This is basically a __binary search__ method based on the prerequisite that, if $f(a)>0$ and $f(b)<0$ (or viceversa) and $f$ is continuous, there must be a root of $f$ in the interval $(a,b)$."
   ]
  },
  {
   "cell_type": "code",
   "execution_count": 44,
   "id": "48af7f2b-ec35-4f14-94fd-1bf4b34adf15",
   "metadata": {},
   "outputs": [],
   "source": [
    "def bisection_root(f,a,b,tol):\n",
    "    #assume f(a)!=0\n",
    "    if np.sign(f(a)) == np.sign(f(b)):\n",
    "        raise Exception(\n",
    "         \"The scalars a and b do not bound a root\")\n",
    "        \n",
    "    m=(a+b)/2\n",
    "    if np.abs(f(m)) < tol:\n",
    "        # stopping condition, report m as root\n",
    "        return m\n",
    "    elif np.sign(f(a)) == np.sign(f(m)):\n",
    "        #f(m) has same sign as f(a)\n",
    "        return bisection_root(f, m, b, tol)\n",
    "    elif np.sign(f(b)) == np.sign(f(m)):\n",
    "        #f(m) has same sign as f(b)\n",
    "        return bisection_root(f, a, m, tol)"
   ]
  },
  {
   "cell_type": "code",
   "execution_count": 45,
   "id": "b856cd83-6089-4810-81a9-e00406bbd6ad",
   "metadata": {},
   "outputs": [
    {
     "data": {
      "text/plain": [
       "0.6181640625"
      ]
     },
     "execution_count": 45,
     "metadata": {},
     "output_type": "execute_result"
    }
   ],
   "source": [
    "bisection_root(lambda x:x**2-1+x,-1,1,0.001)"
   ]
  },
  {
   "cell_type": "markdown",
   "id": "02d29658-3802-4765-bb5b-137f92d93d26",
   "metadata": {},
   "source": [
    "### Newton-Raphson method"
   ]
  },
  {
   "cell_type": "markdown",
   "id": "f908c645-c0ec-49c5-ac85-bf4991988bd8",
   "metadata": {},
   "source": [
    "Let $f$ be smooth and $x_r$ an unknown root. Suppose $x_0$ is a good approximation of $x_r$, i.e. $f(x_0)$ is \"small enough\". You want to improve on estimation of $x_r$ by finding an $x_1$ which is closer to it than $x_0$.\n",
    "\n",
    "If $x_0$ is close to $x_r$, you can take a linear approximation: $f(x_1)\\sim f(x_0)+f'(x_0)(x_1-x_0)$. Imposing that $f(x_1)=0$, this becomes:\n",
    "<center> $0=f(x_0)+f'(x_0)(x_1-x_0)\\rightarrow x_1=x_0-\\dfrac{f(x_0)}{f'(x_0)}$</center>\n",
    "Basically the point $x_1$ is where the tangent to $f(x_0)$ intersecates the $x$ axis.\n",
    "\n",
    "This method gets iterated until $f(x_n)$ is smaller than a given tolerance for some $n$. The steps are:\n",
    "<center> $x_i=x_{i-1}-\\dfrac{f(x_{i-1})}{f'(x_{i-1})}$</center>"
   ]
  },
  {
   "cell_type": "code",
   "execution_count": 57,
   "id": "b7b24382-1cb3-4f5f-b96b-cd22a939550b",
   "metadata": {},
   "outputs": [],
   "source": [
    "f=lambda x: x**3+x**2-4*x -1\n",
    "fp=lambda x: 3*x**2+2*x-4\n",
    "def newton_raphson(x0,tol):\n",
    "    if np.abs(f(x0))<tol:\n",
    "        return x0\n",
    "    x0=x0-f(x0)/fp(x0)\n",
    "    return newton_raphson(x0,tol)"
   ]
  },
  {
   "cell_type": "code",
   "execution_count": 67,
   "id": "2cdf4246-864f-4469-9793-a1d257a2b0d2",
   "metadata": {},
   "outputs": [
    {
     "name": "stdout",
     "output_type": "stream",
     "text": [
      "1.6996281482799458\n",
      "-0.23912426707017212\n",
      "-2.460504870019674\n"
     ]
    }
   ],
   "source": [
    "#solutions are -2.46,-0.23,1.69\n",
    "print(newton_raphson(2,0.000001))\n",
    "print(newton_raphson(-0.5,0.00001))\n",
    "print(newton_raphson(-2,0.00001))"
   ]
  },
  {
   "cell_type": "markdown",
   "id": "0e174bae-2a83-4b6b-9afb-55bd04341fc1",
   "metadata": {},
   "source": [
    "If $x_0$ is close to $x_r$, the Newton-Raphson converges much faster than the bisection method.\n",
    "\n",
    "However:\n",
    "- Without a good guess $x_0$ convergence speed is hard to determine.\n",
    "- Even with a good guess $x_0$, we can have stability problems if $f'(x_0)\\sim 0$, as the \"Newton step\" $f(x_0)/f'(x_0)$ will be large and will lead away from $x_0$.\n",
    "- There's no precise way to tell to which root the algorithm will converge to."
   ]
  },
  {
   "cell_type": "markdown",
   "id": "9a3b1736-5c1a-45b2-ab19-ccb83a970a23",
   "metadata": {},
   "source": [
    "__Example__ Consider the polynomial $f(x)=x^3−100 x^2−x+100$. This polynomial has a root at $x=1$ and $x=100$. We use the Newton-Raphson to find a root of $f$ starting at $x_0=0$."
   ]
  },
  {
   "cell_type": "code",
   "execution_count": 73,
   "id": "7be1c522-afca-4981-a0bd-b44216b55e69",
   "metadata": {},
   "outputs": [
    {
     "name": "stdout",
     "output_type": "stream",
     "text": [
      "100.0\n"
     ]
    }
   ],
   "source": [
    "def newton_raphson_generic(f,df,x0,tol):\n",
    "    if abs(f(x0))<tol:\n",
    "        return x0\n",
    "    x0=x0-f(x0)/df(x0)\n",
    "    return newton_raphson_generic(f,df,x0,tol)\n",
    "\n",
    "poly=lambda x: x**3-100*x**2-x+100\n",
    "dpoly=lambda x: 3*x**2-200*x-1\n",
    "\n",
    "print(newton_raphson_generic(poly,dpoly,0,0.0001))"
   ]
  },
  {
   "cell_type": "markdown",
   "id": "93038984-54da-4f65-ae17-40ab7e64b6a6",
   "metadata": {},
   "source": [
    "Even if we started near the root at $1$, the algorithm converged to the other root! This is because already at the very first step we had:\n",
    "<center> $x_1=0-\\frac{100}{-1}=100$ which is the second root of the polynomial.</center>"
   ]
  },
  {
   "cell_type": "markdown",
   "id": "77625997-1fd9-46b2-a49f-7fd0bce84dff",
   "metadata": {},
   "source": [
    "# Root finding in Python"
   ]
  },
  {
   "cell_type": "markdown",
   "id": "6ebcc6cc-d46a-4048-975a-87a247a9fa5f",
   "metadata": {},
   "source": [
    "The `scipy.optimize` package has a root finding function, `fsolve`. Apparently, it uses a modified Newton-Raphson algorithm (Powell's dog-leg method). It takes many arguments:\n",
    "- `func` is the callable function\n",
    "- `x0` is the starting point(s) (can be a `list`)\n",
    "- `args` are extra arguments that you want to pass to `func`, by default they are `None`\n",
    "- `fprime` if you want to pass to it the Jacobian matrix (i.e. partial derivatives matrix), otherwise it is automatically computed\n",
    "- `xtol`: calculation will stop if difference between two consecutive iterations is lower than `xtol`\n",
    "- `maxfev`: maximum number of iterations. By default it's `(len(x0)+1)*100`\n",
    "\n",
    "  Note that only `func` and `x0` are required."
   ]
  },
  {
   "cell_type": "code",
   "execution_count": 77,
   "id": "0c3c2917-31f4-4de6-964f-68701b0d2c75",
   "metadata": {},
   "outputs": [
    {
     "data": {
      "text/plain": [
       "array([  1., 100.])"
      ]
     },
     "execution_count": 77,
     "metadata": {},
     "output_type": "execute_result"
    }
   ],
   "source": [
    "from scipy.optimize import fsolve\n",
    "\n",
    "f = lambda x: x**3-100*x**2-x+100\n",
    "\n",
    "fsolve(f, [2, 80]) #two starting points to find two different roots"
   ]
  },
  {
   "cell_type": "markdown",
   "id": "c35e7566-15a7-4239-a1f7-f5c59f36a322",
   "metadata": {},
   "source": [
    "## Problems"
   ]
  },
  {
   "cell_type": "markdown",
   "id": "9f936f6d-15ff-4c93-a5a7-76ece4d990da",
   "metadata": {},
   "source": [
    "1) Write a function 𝑚𝑦_𝑓𝑖𝑥𝑒𝑑_𝑝𝑜𝑖𝑛𝑡(𝑓,𝑔,𝑡𝑜𝑙,𝑚𝑎𝑥𝑖𝑡𝑒𝑟), where 𝑓 and 𝑔 are function objects and 𝑡𝑜𝑙 and 𝑚𝑎𝑥_𝑖𝑡𝑒𝑟 are strictly positive scalars. The input argument, 𝑚𝑎𝑥_𝑖𝑡𝑒𝑟, is also an integer. The output argument, 𝑋, should be a scalar satisfying |𝑓(𝑋)−𝑔(𝑋)|<𝑡𝑜𝑙; that is, 𝑋 is a point that (almost) satisfies 𝑓(𝑋)=𝑔(𝑋). To find 𝑋, you should use the Bisection method with error metric, |𝐹(𝑚)|<𝑡𝑜𝑙. The function 𝑚𝑦_𝑓𝑖𝑥𝑒𝑑_𝑝𝑜𝑖𝑛𝑡 should “give up” after 𝑚𝑎𝑥_𝑖𝑡𝑒𝑟 number of iterations and return 𝑋=[] if this occurs."
   ]
  },
  {
   "cell_type": "code",
   "execution_count": 98,
   "id": "a2b0ba2b-2fd6-4f46-8f29-e3eb33655b1a",
   "metadata": {},
   "outputs": [],
   "source": [
    "def my_fixed_point(f,g,a,b,tol,maxiter):\n",
    "    F=lambda x:f(x)-g(x)\n",
    "    if maxiter>0:\n",
    "        m=(a+b)/2\n",
    "        if np.abs(F(m))<tol:\n",
    "            return m\n",
    "        elif np.sign(F(m))==np.sign(F(a)):\n",
    "            return my_fixed_point(f,g,m,b,tol,maxiter-1)\n",
    "        elif np.sign(F(m))==np.sign(F(b)):\n",
    "            return my_fixed_point(f,g,a,m,tol,maxiter-1)\n",
    "        else:\n",
    "            return []\n",
    "    else:\n",
    "        return []"
   ]
  },
  {
   "cell_type": "code",
   "execution_count": 102,
   "id": "89f70f84-90f4-4997-87af-2801a6976980",
   "metadata": {},
   "outputs": [
    {
     "name": "stdout",
     "output_type": "stream",
     "text": [
      "1.00048828125\n",
      "0.00019531250000002468\n"
     ]
    }
   ],
   "source": [
    "print(my_fixed_point(lambda x:x**2-1, lambda x:x-1, 0.5,3,0.001,10))\n",
    "print(my_fixed_point(lambda x:x**2-1, lambda x:x-1, -1,0.8,0.001,10))\n",
    "#The two fixed points are 0 and 1"
   ]
  },
  {
   "cell_type": "markdown",
   "id": "1503950d-cf70-4359-b06f-0aad263d448a",
   "metadata": {},
   "source": [
    "4) Write a function 𝑚𝑦_𝑏𝑖𝑠𝑒𝑐𝑡𝑖𝑜𝑛(𝑓,𝑎,𝑏,𝑡𝑜𝑙), that returns [𝑅,𝐸], where 𝑓 is a function object, 𝑎 and 𝑏 are scalars such that 𝑎<𝑏, and 𝑡𝑜𝑙 is a strictly positive scalar value. The function should return an array, 𝑅, where 𝑅[𝑖] is the estimation of the root of 𝑓 defined by (𝑎+𝑏)/2 for the 𝑖-th iteration of the bisection method. Remember to include the initial estimate. The function should also return an array, 𝐸, where 𝐸[𝑖] is the value of |𝑓(𝑅[𝑖])| for the 𝑖-th iteration of the bisection method. The function should terminate when 𝐸(𝑖)<𝑡𝑜𝑙. You may assume that sign(𝑓(𝑎))≠sign(𝑓(𝑏))."
   ]
  },
  {
   "cell_type": "code",
   "execution_count": 113,
   "id": "e867a334-9d80-4668-8cb2-c66acedaa8be",
   "metadata": {},
   "outputs": [],
   "source": [
    "def my_bisection(f,a,b,tol,R=[],E=[]):\n",
    "    m=(a+b)/2\n",
    "    m=(a+b)/2\n",
    "    R.append(m)\n",
    "    E.append(np.abs(f(m)))\n",
    "    if np.abs(f(m))<tol:\n",
    "        return R,E\n",
    "    if np.sign(f(m))==np.sign(f(a)):\n",
    "        return my_bisection(f,m,b,tol,R,E)\n",
    "    elif np.sign(f(m))==np.sign(f(b)):\n",
    "        return my_bisection(f,a,m,tol,R,E)\n",
    "    else:\n",
    "        return 'nope'"
   ]
  },
  {
   "cell_type": "code",
   "execution_count": 114,
   "id": "9c414e97-77b3-4a0b-a275-545d6952c42f",
   "metadata": {},
   "outputs": [
    {
     "name": "stdout",
     "output_type": "stream",
     "text": [
      "[1.0, 1.5, 1.25, 1.375, 1.4375]\n",
      "[1.0, 0.25, 0.4375, 0.109375, 0.06640625]\n"
     ]
    }
   ],
   "source": [
    "#test\n",
    "f = lambda x: x**2 - 2\n",
    "[R, E] = my_bisection(f, 0, 2, 1e-1)\n",
    "#Out: R = [1, 1.5, 1.25, 1.375, 1.4375]\n",
    "# E = [1, 0.25, 0.4375, 0.109375, 0.06640625]\n",
    "print(R)\n",
    "print(E)"
   ]
  },
  {
   "cell_type": "code",
   "execution_count": 115,
   "id": "37630d91-0bef-4dd7-9e60-9d0150a73dbe",
   "metadata": {},
   "outputs": [
    {
     "name": "stdout",
     "output_type": "stream",
     "text": [
      "[1.0, 1.5, 1.25, 1.375, 1.4375, 1.0, 0.5, 0.75, 0.875, 0.8125, 0.78125]\n",
      "[1.0, 0.25, 0.4375, 0.109375, 0.06640625, 0.30116867893975674, 0.39815702328616975, 0.050050108850486774, 0.126546644072702, 0.038323093040207756, 0.005866372111545948]\n"
     ]
    }
   ],
   "source": [
    "#test 2\n",
    "f = lambda x: np.sin(x) - np.cos(x)\n",
    "[R, E] = my_bisection(f, 0, 2, 1e-2)\n",
    "#Out: R = [1, 0.5, 0.75, 0.875, 0.8125, 0.78125]\n",
    "#    E = [0.30116867893975674, 0.39815702328616975, 0.05005010885048666, 0.12654664407270177, 0.038323093040207645, 0.005866372111545948]\n",
    "print(R)\n",
    "print(E)"
   ]
  },
  {
   "cell_type": "code",
   "execution_count": null,
   "id": "b145b738-3b97-42f5-902b-5890f93d1248",
   "metadata": {},
   "outputs": [],
   "source": []
  }
 ],
 "metadata": {
  "kernelspec": {
   "display_name": "Python 3 (ipykernel)",
   "language": "python",
   "name": "python3"
  },
  "language_info": {
   "codemirror_mode": {
    "name": "ipython",
    "version": 3
   },
   "file_extension": ".py",
   "mimetype": "text/x-python",
   "name": "python",
   "nbconvert_exporter": "python",
   "pygments_lexer": "ipython3",
   "version": "3.11.8"
  }
 },
 "nbformat": 4,
 "nbformat_minor": 5
}
