{
 "cells": [
  {
   "cell_type": "markdown",
   "id": "ef8b81cb-9e48-4410-b457-5f2fc4492d9d",
   "metadata": {},
   "source": [
    "We will be using the `multiprocessing` library almost exclusively."
   ]
  },
  {
   "cell_type": "code",
   "execution_count": 1,
   "id": "6eaec5ac-48f9-4f64-a5c2-20efb6cfc524",
   "metadata": {},
   "outputs": [],
   "source": [
    "import multiprocessing as mp"
   ]
  },
  {
   "cell_type": "code",
   "execution_count": 2,
   "id": "fbbf5152-b444-4ab7-8661-bc40e0b150eb",
   "metadata": {},
   "outputs": [
    {
     "name": "stdout",
     "output_type": "stream",
     "text": [
      "No. of cores is 8.\n"
     ]
    }
   ],
   "source": [
    "print(f'No. of cores is {mp.cpu_count()}.')"
   ]
  },
  {
   "cell_type": "markdown",
   "id": "76823abb-1269-4021-9c63-fdd25e444de3",
   "metadata": {},
   "source": [
    "#### Small example - single vs multiple thread execution time"
   ]
  },
  {
   "cell_type": "code",
   "execution_count": 3,
   "id": "68aef7d1-746a-444b-9516-66043fd24348",
   "metadata": {},
   "outputs": [],
   "source": [
    "import numpy as np\n",
    "import time\n",
    "\n",
    "def random_square(seed):\n",
    "    np.random.seed(seed) #initialises number generator\n",
    "    random_num = np.random.randint(0, 10)\n",
    "    return random_num**2 "
   ]
  },
  {
   "cell_type": "code",
   "execution_count": 8,
   "id": "8a88ee2e-5ada-4bbd-9197-93dceae62dd5",
   "metadata": {},
   "outputs": [
    {
     "name": "stdout",
     "output_type": "stream",
     "text": [
      "Execution time 50.4595160484314 s\n"
     ]
    }
   ],
   "source": [
    "#single thead execution time\n",
    "t0 = time.time()\n",
    "results = []\n",
    "for i in range(10000000): \n",
    "    results.append(random_square(i))\n",
    "t1 = time.time()\n",
    "print(f'Execution time {t1 - t0} s')"
   ]
  },
  {
   "cell_type": "code",
   "execution_count": 25,
   "id": "2b7ca75f-2279-4028-b294-8ac58eb68b9a",
   "metadata": {},
   "outputs": [
    {
     "name": "stdout",
     "output_type": "stream",
     "text": [
      "Execution time 12.129820108413696 s\n"
     ]
    }
   ],
   "source": [
    "#multi thread execution time\n",
    "#issue: pool.map does not work natively in jupyter. Need to import it from another .py file.\n",
    "from support_code.multithreading import multi_random_squares_time\n",
    "t=multi_random_squares_time()\n",
    "print(f'Execution time {t} s')"
   ]
  },
  {
   "cell_type": "markdown",
   "id": "8e8a152d-997a-45d4-a5a4-8797de6d1d3b",
   "metadata": {},
   "source": [
    "## Some multithreading methods from the Pool class"
   ]
  },
  {
   "cell_type": "markdown",
   "id": "81a48d44-be0c-4390-a970-ec15dfa66789",
   "metadata": {},
   "source": [
    "- `map` takes a function and an `iterable`, and applies the function to the iteration of the iterable\n",
    "- `apply` takes a function and a `list` or `tuple` of arguments, and applies the function to the arguments\n",
    "- `map_async` is an `async` version of `map` (i.e. submit all processes at once and retrieve the results as soon as they are finished)\n",
    "- `apply_async` is an `async` version of `apply`"
   ]
  },
  {
   "cell_type": "markdown",
   "id": "4c0e745a-a4bc-42b2-adfa-bea078695f5e",
   "metadata": {},
   "source": [
    "## The `joblib` external library"
   ]
  },
  {
   "cell_type": "code",
   "execution_count": 5,
   "id": "a272a8cf-4944-4869-9aff-5b84006ef845",
   "metadata": {},
   "outputs": [],
   "source": [
    "from joblib import Parallel, delayed\n",
    "import numpy as np"
   ]
  },
  {
   "cell_type": "code",
   "execution_count": 10,
   "id": "7c9260ca-a492-43ee-8323-889a7b456f83",
   "metadata": {},
   "outputs": [],
   "source": [
    "results=Parallel(n_jobs=6)(delayed(random_square)(i) for i in range(1000000))\n",
    "#seems super fast"
   ]
  },
  {
   "cell_type": "markdown",
   "id": "b68abe7e-8b99-43d4-86f5-48fb1439aa95",
   "metadata": {},
   "source": [
    "`Parallel` is a class that provides an interface for the `multiprocessing` module.\n",
    "\n",
    "`delayed` captures arguments of the target function. Note that you can use all cores by setting `n_jobs=-1`.\n",
    "\n",
    "`verbose` option makes `Parallel` output status messages."
   ]
  },
  {
   "cell_type": "code",
   "execution_count": 13,
   "id": "c725b276-37fc-4c67-8549-a91d8a0f4399",
   "metadata": {},
   "outputs": [
    {
     "name": "stderr",
     "output_type": "stream",
     "text": [
      "[Parallel(n_jobs=-1)]: Using backend LokyBackend with 8 concurrent workers.\n",
      "[Parallel(n_jobs=-1)]: Done  34 tasks      | elapsed:    0.6s\n",
      "[Parallel(n_jobs=-1)]: Done 16392 tasks      | elapsed:    0.8s\n",
      "[Parallel(n_jobs=-1)]: Done 1000000 out of 1000000 | elapsed:    4.0s finished\n"
     ]
    }
   ],
   "source": [
    "results=Parallel(n_jobs=-1,verbose=1)(delayed(random_square)(i) for i in range(1000000))"
   ]
  },
  {
   "cell_type": "markdown",
   "id": "36d67199-8971-4327-a69c-111c17cec57f",
   "metadata": {},
   "source": [
    "There are multiple backends in `joblib`. You can pick which one you prefer by setting `backend='backend_name'` in `Parallel`."
   ]
  },
  {
   "cell_type": "code",
   "execution_count": 15,
   "id": "128552f0-313a-4770-adf8-12f860cdf680",
   "metadata": {},
   "outputs": [],
   "source": [
    "#Example with multiprocessing\n",
    "#results=Parallel(n_jobs=-1, backend='multiprocessing', verbose=1)(delayed(random_square)(i) for i in range(10000))\n",
    "#some bug happening. Might be due to notebook."
   ]
  },
  {
   "cell_type": "markdown",
   "id": "ace6e34e-cdfd-425b-83ee-44c362f9c4f3",
   "metadata": {},
   "source": [
    "## Problems"
   ]
  },
  {
   "cell_type": "markdown",
   "id": "5b748bc9-64cb-45cc-82fc-f85353628342",
   "metadata": {},
   "source": [
    "### Parallel the following code:"
   ]
  },
  {
   "cell_type": "code",
   "execution_count": 13,
   "id": "211dfbb9-e36e-429a-bb0b-a2282ec2c3de",
   "metadata": {},
   "outputs": [
    {
     "name": "stdout",
     "output_type": "stream",
     "text": [
      "running time without parallelisation is 0.24688315391540527\n"
     ]
    }
   ],
   "source": [
    "from support_code.multithreading import plus_cube\n",
    "t0=time.time()\n",
    "results=[]\n",
    "\n",
    "for x, y in zip(range(1000000), range(1000000)):\n",
    "    results.append(plus_cube(x, y))\n",
    "    \n",
    "t1=time.time()\n",
    "print(f'running time without parallelisation is {t1-t0}')"
   ]
  },
  {
   "cell_type": "markdown",
   "id": "c9ef71bf-c290-447a-93da-cd3efc08a27a",
   "metadata": {},
   "source": [
    "Not faster with parallelisation, must have done sthing wrong"
   ]
  },
  {
   "cell_type": "markdown",
   "id": "f9197c15-c1a7-421c-9dbd-fc1fccf72582",
   "metadata": {},
   "source": []
  }
 ],
 "metadata": {
  "kernelspec": {
   "display_name": "Python 3 (ipykernel)",
   "language": "python",
   "name": "python3"
  },
  "language_info": {
   "codemirror_mode": {
    "name": "ipython",
    "version": 3
   },
   "file_extension": ".py",
   "mimetype": "text/x-python",
   "name": "python",
   "nbconvert_exporter": "python",
   "pygments_lexer": "ipython3",
   "version": "3.11.8"
  }
 },
 "nbformat": 4,
 "nbformat_minor": 5
}
