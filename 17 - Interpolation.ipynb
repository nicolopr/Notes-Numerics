{
 "cells": [
  {
   "cell_type": "markdown",
   "id": "cc206eca-ecc6-461c-aba8-69532f846aa1",
   "metadata": {},
   "source": [
    "# Interpolation"
   ]
  },
  {
   "cell_type": "markdown",
   "id": "8ee6b906-46ba-42dd-8ca9-9c29b3b76f62",
   "metadata": {},
   "source": [
    "Regression assumes that data are noisy and so tolerates errors in passing through datapoints.\n",
    "\n",
    "__Interpolation__ assumes that data are exact and tries to find the best function that passes through all datapoints. Furthermore, interpolation does not require that we have already a model for the interpolating function."
   ]
  },
  {
   "cell_type": "code",
   "execution_count": null,
   "id": "cf4c4d44-b2a4-4aff-9e7c-8640abe6100f",
   "metadata": {},
   "outputs": [],
   "source": []
  }
 ],
 "metadata": {
  "kernelspec": {
   "display_name": "Python 3 (ipykernel)",
   "language": "python",
   "name": "python3"
  },
  "language_info": {
   "codemirror_mode": {
    "name": "ipython",
    "version": 3
   },
   "file_extension": ".py",
   "mimetype": "text/x-python",
   "name": "python",
   "nbconvert_exporter": "python",
   "pygments_lexer": "ipython3",
   "version": "3.11.8"
  }
 },
 "nbformat": 4,
 "nbformat_minor": 5
}
