{
 "cells": [
  {
   "cell_type": "markdown",
   "id": "280b104c-12c3-4d9e-84c3-3071765c9af0",
   "metadata": {},
   "source": [
    "# ODEs"
   ]
  },
  {
   "cell_type": "markdown",
   "id": "4485edce-9ab0-47ad-afc9-454703a97350",
   "metadata": {},
   "source": [
    "ODEs are differential equations in one variable.\n",
    "$n$-th order means that the highest derivative is $\\frac{\\partial^n}{\\partial x^n}$.\n",
    "\n",
    "A __general solution__ to a differential equation is a function $g(x)$ that satisfies it. \n",
    "\n",
    "A particular solution is a function $f(x)$ that satisfies it and has $n$ known values at some points. You can take these to be the values of $f$ and its $n-1$ derivatives at the same points, or the values of $f$ at $n$ different points, or a mix of them.\n",
    "\n",
    "An analytical solution is often impossible, so we will look for _numerical solutions_, i.e. a set of discrete values (or a grid) that approximates the analytical solution $f(x)$."
   ]
  },
  {
   "cell_type": "markdown",
   "id": "a5513b68-d3f5-4944-ac19-848c8f164248",
   "metadata": {},
   "source": [
    "### Initial value problem"
   ]
  },
  {
   "cell_type": "markdown",
   "id": "17addfac-70be-4ac5-86ad-f5bc52fe9639",
   "metadata": {},
   "source": [
    "These are the ODEs where the initial conditions are all specified at one single point $x_0$. Thus, an initial value problem is the following Cauchy problem:\n",
    "\n",
    "$\\begin{cases}f^{(n)}(x)=F(x,f(x),f'(x),\\dots,f^{(n-1)}(x))\\\\\n",
    "f(x_0)=f_0\\\\\n",
    "f'(x_0)=f_1\\\\\n",
    "\\dots\\\\\n",
    "f^{(n-1)}=f_{n-1}\n",
    "\\end{cases}$"
   ]
  },
  {
   "cell_type": "markdown",
   "id": "45f4616a-5d15-4f30-a4c3-3c9f8cfbb8c7",
   "metadata": {},
   "source": [
    "## Reduction of order"
   ]
  },
  {
   "cell_type": "markdown",
   "id": "4941f3c1-bc2d-4f1d-89e6-deb38142cdfb",
   "metadata": {},
   "source": [
    "Many numerical algos only work for first order ODEs. Luckily, we can always reduce the degree of a $n$-th order ODE by repackaging into a  system of $n$ first order ODEs."
   ]
  },
  {
   "cell_type": "markdown",
   "id": "5f7a5391-9dcf-4ca7-a79f-2a267ec7975e",
   "metadata": {},
   "source": [
    "Let the state be $S=\\begin{pmatrix}f(t)\\\\ f'(t) \\\\ \\dots \\\\ f^{(n-1)}(t)\\end{pmatrix}$. Its derivative is:\n",
    "\n",
    "$\\dfrac{dS}{dt}=\\begin{pmatrix}f'(t)\\\\ f''(t) \\\\ \\dots \\\\ f^{(n)}(t)\\end{pmatrix}=\\begin{pmatrix}f'(t)\\\\ f''(t) \\\\ \\dots \\\\ F(t,f(t)\\dots f^{(n-1)}(t))\\end{pmatrix}=\\begin{pmatrix}S_2(t)\\\\ S_3(t) \\\\ \\dots \\\\ F(t,S_1(t)\\dots S_{n-1}(t))\\end{pmatrix}$, where $S_i$ is the $i$-th element of $S$.\n",
    "\n",
    "In this way, we have written $\\dfrac{dS}{dt}$ in terms of only derivatives of $f$, i.e. $\\dfrac{dS}{dt}=\\mathfrak{F}(t,S(t))$, where $\\mathfrak{F}$ is a vector with some components.\n",
    "\n",
    "This is a vector equation that corresponds to $n$ first-order ODEs coupled together."
   ]
  },
  {
   "cell_type": "markdown",
   "id": "a9c00dcf-bbe5-4ddb-a727-522d25784802",
   "metadata": {},
   "source": [
    "## Euler method"
   ]
  },
  {
   "cell_type": "markdown",
   "id": "aaba8ddb-570b-4588-aa1c-66569229ecd7",
   "metadata": {},
   "source": [
    "This is a numerical algorithm that solves first order ODEs. Let $\\dfrac{dS}{dt}=F(t,S(t))$ and $t$ a numerical grid on the interval $[t_0,t_f]$. WLOG, we assume $t_0=0,\\,\\,t_f=Nh$."
   ]
  },
  {
   "cell_type": "markdown",
   "id": "77d640a6-c2ab-4741-830d-3692223ddcf1",
   "metadata": {},
   "source": [
    "The linear approximation of $S(t)$ around $t_j$ at $t_{j+1}$ is:\n",
    "<center> $S(t_{j+1})=S(t_j)+(t_{j+1}-t_j)\\dfrac{dS(t_j)}{dt}\\rightarrow S(t_{j+1})=S(t_j)+h F(t_j,S(t_j))$</center> "
   ]
  },
  {
   "cell_type": "markdown",
   "id": "f53bfaca-9501-4b17-9f39-b44f4e2f2c7c",
   "metadata": {},
   "source": [
    "This is known as the __explicit__ Euler formula. It is evident that from the knowledge of $S$ and its derivative at $t_j$, we can compute $S$ at the next grid point.\n",
    "\n",
    "We can implement this process using the following algorithm:\n",
    "- store $S_0\\equiv S(t_0)$ in an array `S`\n",
    "- compute $S(t_1)=S_0+h F(t_0,S_0)$ and store it at position $S_1$ of `S`\n",
    "- repeat for all $N$ points, until $S(t_f)$\n",
    "- `S` is an approximation of the solution to the initial value problem."
   ]
  },
  {
   "cell_type": "markdown",
   "id": "42417466-3ad9-4ae4-baf5-022de88e9b3c",
   "metadata": {},
   "source": [
    "#### Example"
   ]
  },
  {
   "cell_type": "markdown",
   "id": "b517d730-f971-4f57-ae48-60cd34a80b5c",
   "metadata": {},
   "source": [
    "The ODE we consider is $\\dfrac{df(t)}{dt}=e^{-t}$ with $f(0)=-1$. Use Euler's method on interval $[0,1]$."
   ]
  },
  {
   "cell_type": "code",
   "execution_count": 11,
   "id": "393708de-9b4c-4cf8-a2f0-00c133294af1",
   "metadata": {},
   "outputs": [
    {
     "data": {
      "image/png": "[encoded data removed]",
      "text/plain": [
       "<Figure size 300x300 with 1 Axes>"
      ]
     },
     "metadata": {},
     "output_type": "display_data"
    }
   ],
   "source": [
    "import numpy as np\n",
    "import matplotlib.pyplot as plt\n",
    "\n",
    "f = lambda t,s: np.exp(-t)\n",
    "h=0.1 #step size\n",
    "t=np.arange(0,1+h,h) #numerical grid\n",
    "s0=-1\n",
    "\n",
    "s=np.zeros(len(t)) #initalise array of approx value with zeros\n",
    "s[0]=s0\n",
    "for i in range(len(s)-1):\n",
    "    s[i+1]=s[i]+h*f(t[i],s[i])\n",
    "\n",
    "plt.figure(figsize=(3,3))\n",
    "plt.plot(t, s, \"b-\", label=\"Approximate\")\n",
    "plt.plot(t, -np.exp(-t), \"g\", label=\"Exact\")\n",
    "plt.legend()\n",
    "plt.grid()\n",
    "plt.legend(loc=\"lower right\")\n",
    "plt.show()"
   ]
  },
  {
   "cell_type": "markdown",
   "id": "c876ca30-dde2-47ab-ab84-7c2c849a20c7",
   "metadata": {},
   "source": [
    "There's also an __implicit__ Euler formula, obtained by swapping $F(t_j,S(t_j))$ with $F(t_{j+1},S(t_{j+1}))$:\n",
    "<center> $S(t_{j+1})=S(t_j)+h F(t_{j+1},S(t_{j+1}))$</center> \n",
    "Note that you need to know $S(t_{j+1})$ to compute $S(t_{j+1})$... still it has uses in some cases, as we'll see later."
   ]
  },
  {
   "cell_type": "markdown",
   "id": "f6747c11-9b79-47b6-9ca6-baceed4705af",
   "metadata": {},
   "source": [
    "Finally, we can introduce another implicit formula called __trapezoidal__ formula, aka the average of implicit and explicit formulae:\n",
    "<center> $S(t_{j+1})=S(t_j)+\\dfrac{h}{2}(F(t_{j},S(t_{j}))+ F(t_{j+1},S(t_{j+1})))$</center> "
   ]
  },
  {
   "cell_type": "code",
   "execution_count": null,
   "id": "53bdf6bc-5214-41a5-a684-d22f79c3ab4d",
   "metadata": {},
   "outputs": [],
   "source": []
  }
 ],
 "metadata": {
  "kernelspec": {
   "display_name": "Python 3 (ipykernel)",
   "language": "python",
   "name": "python3"
  },
  "language_info": {
   "codemirror_mode": {
    "name": "ipython",
    "version": 3
   },
   "file_extension": ".py",
   "mimetype": "text/x-python",
   "name": "python",
   "nbconvert_exporter": "python",
   "pygments_lexer": "ipython3",
   "version": "3.11.8"
  }
 },
 "nbformat": 4,
 "nbformat_minor": 5
}
